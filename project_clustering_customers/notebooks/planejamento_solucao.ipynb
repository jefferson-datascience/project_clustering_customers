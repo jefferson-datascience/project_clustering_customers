{
 "cells": [
  {
   "cell_type": "markdown",
   "id": "50ee04b8",
   "metadata": {},
   "source": [
    "## Planejamento de Solução (Método IoT) - Empresa All in One Place"
   ]
  },
  {
   "cell_type": "markdown",
   "id": "731e3980",
   "metadata": {
    "ExecuteTime": {
     "end_time": "2022-11-23T11:44:57.544725Z",
     "start_time": "2022-11-23T11:44:57.530760Z"
    }
   },
   "source": [
    "### Entrada(Input)"
   ]
  },
  {
   "cell_type": "markdown",
   "id": "68ebde8b",
   "metadata": {},
   "source": [
    "#### Problema de Negócio"
   ]
  },
  {
   "cell_type": "markdown",
   "id": "3523f572",
   "metadata": {},
   "source": [
    "A empresa All in One Place é um Outlet Multimarcas, ou seja, ela comercializa produtos de segunda linha de várias marcas a um preço menor, através de um e-commerce.\n",
    "\n",
    "Em um pouco mais de 1 ano de operação, o time de marketing percebeu que alguns clientes de sua base compram produtos mais caros e com uma certa alta frequência ,e consequentemente, acabam contribuindo com uma parcela significativa do faturamento da empresa.\n",
    "\n",
    "Baseado nessa percepção, o time de marketing vai lançar um programa de fidelidade para os melhores clientes da base, chamado Insiders. Todavia, o time não tem um conhecimento avançado em análise de dados para eleger os participantes do programa.\n",
    "\n",
    "Por esse motivo, o time de marketing requisitou ao time de dados uma seleção de clientes elegíveis ao programa, usando técnicas avançadas de manipulação de dados.\n",
    "\n",
    "Você faz parte do time de Ciência de Dados da empresa All in One Place, que precisa determinar quem são os clientes elegíveis para participar do programa Insiders. Em posse dessa lista, o time de Marketing fará uma sequência de ações personalizadas e exclusivas ao grupo, de modo a aumentar o faturamento e a frequência de compra."
   ]
  },
  {
   "cell_type": "markdown",
   "id": "c860907e",
   "metadata": {},
   "source": [
    "#### Questão de Negócio"
   ]
  },
  {
   "cell_type": "markdown",
   "id": "b5276442",
   "metadata": {},
   "source": [
    "Como resultado para esse projeto, é esperado que você entregue uma lista de pessoas elegíveis a participar do programa Insiders, junto com o relatório respondendo as seguintes perguntas:\n",
    "\n",
    "**1.** Quem são as pessoas elegíveis para participar do programa de Insiders?\n",
    "\n",
    "**2.** Quantos clientes farão parte do grupo?\n",
    "\n",
    "**3.** Quais são as principais características desses clientes?\n",
    "\n",
    "**4.** Qual a porcentagem de contribuição do faturamento, vinda do Insiders?\n",
    "\n",
    "**5.** Qual a expectativa de faturamento desse grupo para os próximos meses?\n",
    "\n",
    "**6.** Quais as condições para uma pessoa a ser elegível ao Insiders? \n",
    "\n",
    "**7.** Quais as condições para uma pessoa ser removida do Insiders?\n",
    "\n",
    "**8.** Qual a garantia que o programa Insiders é melhor que o restante da base?\n",
    "\n",
    "**9.** Quais ações o time de marketing pode realizar para aumentar o faturamento? "
   ]
  },
  {
   "cell_type": "markdown",
   "id": "1db68dea",
   "metadata": {
    "heading_collapsed": true
   },
   "source": [
    "#### Fonte de Dados"
   ]
  },
  {
   "cell_type": "markdown",
   "id": "7e067b1b",
   "metadata": {
    "ExecuteTime": {
     "end_time": "2022-11-23T11:49:06.086523Z",
     "start_time": "2022-11-23T11:49:06.073557Z"
    },
    "hidden": true
   },
   "source": [
    "- Uma arquivo .csv com os dados com um período de 1 ano de vendas do e-commerce."
   ]
  },
  {
   "cell_type": "markdown",
   "id": "e6b5f5da",
   "metadata": {
    "ExecuteTime": {
     "end_time": "2022-11-23T11:49:33.666035Z",
     "start_time": "2022-11-23T11:49:33.652072Z"
    },
    "heading_collapsed": true
   },
   "source": [
    "### Saída(Output)"
   ]
  },
  {
   "cell_type": "markdown",
   "id": "e7e16ec9",
   "metadata": {
    "hidden": true
   },
   "source": [
    "1. Indicação das pessoas que faram parte do programa Insiders, por meio de um arquivo csv contendo o id do cliente e informando se ele está no programa.\n",
    "\n",
    "\n",
    "2. Relatório com as respostas das questões de negócio.\n",
    "\n",
    "    **1.** Quem são as pessoas elegíveis para participar do programa de Insiders?\n",
    "\n",
    "    **2.** Quantos clientes farão parte do grupo?\n",
    "\n",
    "    **3.** Quais são as principais características desses clientes?\n",
    "\n",
    "    **4.** Qual a porcentagem de contribuição do faturamento, vinda do Insiders?\n",
    "\n",
    "    **5.** Qual a expectativa de faturamento desse grupo para os próximos meses?\n",
    "\n",
    "    **6.** Quais as condições para uma pessoa a ser elegível ao Insiders? \n",
    "\n",
    "    **7.** Quais as condições para uma pessoa ser removida do Insiders?\n",
    "\n",
    "    **8.** Qual a garantia que o programa Insiders é melhor que o restante da base?\n",
    "\n",
    "    **9.** Quais ações o time de marketing pode realizar para aumentar o faturamento? "
   ]
  },
  {
   "cell_type": "markdown",
   "id": "7b8431ee",
   "metadata": {
    "ExecuteTime": {
     "end_time": "2022-11-23T11:53:35.410862Z",
     "start_time": "2022-11-23T11:53:35.392911Z"
    },
    "heading_collapsed": true
   },
   "source": [
    "### Tarefas(Task)"
   ]
  },
  {
   "cell_type": "markdown",
   "id": "04b77a6b",
   "metadata": {
    "hidden": true
   },
   "source": [
    "**Observação:** Nessa seção, é extremamente importante realizar o feature engineering do negócio para determinarmos como será a solução do problema, pois problemas dessa natureza não são baseadas no acerto ou erro."
   ]
  },
  {
   "cell_type": "markdown",
   "id": "2d96e4cf",
   "metadata": {
    "heading_collapsed": true,
    "hidden": true
   },
   "source": [
    "#### **1.** Quem são as pessoas elegíveis para participar do programa de Insiders?\n"
   ]
  },
  {
   "cell_type": "markdown",
   "id": "38e7a405",
   "metadata": {
    "hidden": true
   },
   "source": [
    "- O que são clientes elegíveis? O que são clientes de maior valor?\n",
    "   - Faturamento\n",
    "       - Alto Ticket Médio.\n",
    "       - Alto LTV(Total gasto durante o tempo em que está na empresa).\n",
    "       - Baixo Recência(Período de compra curto).\n",
    "       - Alto basket size(mix de produtos).\n",
    "       - Baixa probabilidade de Churn.\n",
    "       - Previsão de LTV.\n",
    "       - Alta propensão de compra.\n",
    "       \n",
    "   - Custo\n",
    "       - Baixa taxa de devolução.\n",
    "        \n",
    "   - Experiência de compra\n",
    "       - Média alta das avaliações."
   ]
  },
  {
   "cell_type": "markdown",
   "id": "5cf1061c",
   "metadata": {
    "heading_collapsed": true,
    "hidden": true
   },
   "source": [
    "#### **2.** Quantos clientes farão parte do grupo?"
   ]
  },
  {
   "cell_type": "markdown",
   "id": "39a8dd8d",
   "metadata": {
    "hidden": true
   },
   "source": [
    "  - Número total de Clientes.\n",
    "   - % do grupo Insiders."
   ]
  },
  {
   "cell_type": "markdown",
   "id": "5864e58b",
   "metadata": {
    "heading_collapsed": true,
    "hidden": true
   },
   "source": [
    "#### **3.** Quais são as principais características desses clientes?"
   ]
  },
  {
   "cell_type": "markdown",
   "id": "6878dc2a",
   "metadata": {
    "hidden": true
   },
   "source": [
    "- Escrever a características do cliente\n",
    "        - Idade, consumo.\n",
    "    \n",
    "   - Escrever a característica de consumo\n",
    "        - Atributos de clusterização."
   ]
  },
  {
   "cell_type": "markdown",
   "id": "2e56b19d",
   "metadata": {
    "heading_collapsed": true,
    "hidden": true
   },
   "source": [
    "#### **4.** Qual a porcentagem de contribuição do faturamento, vinda do Insiders?\n"
   ]
  },
  {
   "cell_type": "markdown",
   "id": "5f4ba49a",
   "metadata": {
    "hidden": true
   },
   "source": [
    "- Faturamento total do ano.\n",
    "- Faturamento do grupo Insiders"
   ]
  },
  {
   "cell_type": "markdown",
   "id": "d20e8903",
   "metadata": {
    "heading_collapsed": true,
    "hidden": true
   },
   "source": [
    "#### **5.** Qual a expectativa de faturamento desse grupo para os próximos meses?"
   ]
  },
  {
   "cell_type": "markdown",
   "id": "2df64ce5",
   "metadata": {
    "hidden": true
   },
   "source": [
    "- LTV do grupo Insiders.\n",
    "- Análise de Cohort."
   ]
  },
  {
   "cell_type": "markdown",
   "id": "1bf74939",
   "metadata": {
    "heading_collapsed": true,
    "hidden": true
   },
   "source": [
    "#### **6.** Quais as condições para uma pessoa a ser elegível ao Insiders?"
   ]
  },
  {
   "cell_type": "markdown",
   "id": "bac5f7fb",
   "metadata": {
    "hidden": true
   },
   "source": [
    "- As pessoas precisam ser similiares as pessoas do grupo insiders\n",
    "- Definir a periodicidade(1 mês, 3 mês)\n",
    "\n"
   ]
  },
  {
   "cell_type": "markdown",
   "id": "8e5d039b",
   "metadata": {
    "heading_collapsed": true,
    "hidden": true
   },
   "source": [
    "#### **7.** Quais as condições para uma pessoa ser removida do Insiders?"
   ]
  },
  {
   "cell_type": "markdown",
   "id": "b4803bb5",
   "metadata": {
    "ExecuteTime": {
     "end_time": "2022-11-23T12:21:11.369149Z",
     "start_time": "2022-11-23T12:21:11.349204Z"
    },
    "hidden": true
   },
   "source": [
    "- As pessoas precisam ser dessimiliares as pessoas do grupo insiders.\n",
    "- Definir a periodicidade(1 mês, 3 mês)"
   ]
  },
  {
   "cell_type": "markdown",
   "id": "ecc27d96",
   "metadata": {
    "heading_collapsed": true,
    "hidden": true
   },
   "source": [
    "#### **8.** Qual a garantia que o programa Insiders é melhor que o restante da base?\n"
   ]
  },
  {
   "cell_type": "markdown",
   "id": "111e53cd",
   "metadata": {
    "hidden": true
   },
   "source": [
    "- Teste A/B\n",
    "- Teste de Hipóteses."
   ]
  },
  {
   "cell_type": "markdown",
   "id": "54a0d1c1",
   "metadata": {
    "heading_collapsed": true,
    "hidden": true
   },
   "source": [
    "#### **9.** Quais ações o time de marketing pode realizar para aumentar o faturamento? \n"
   ]
  },
  {
   "cell_type": "markdown",
   "id": "f3f4e69d",
   "metadata": {
    "ExecuteTime": {
     "end_time": "2022-11-23T12:23:37.745028Z",
     "start_time": "2022-11-23T12:23:37.727113Z"
    },
    "hidden": true
   },
   "source": [
    "- Desconto\n",
    "- Preferência de Compra\n",
    "- Visita a empresa"
   ]
  },
  {
   "cell_type": "markdown",
   "id": "a0cd4d42",
   "metadata": {
    "heading_collapsed": true
   },
   "source": [
    "## Benchmark de soluções"
   ]
  },
  {
   "cell_type": "markdown",
   "id": "be2e095f",
   "metadata": {
    "ExecuteTime": {
     "end_time": "2022-11-23T12:28:47.022858Z",
     "start_time": "2022-11-23T12:28:47.008895Z"
    },
    "hidden": true
   },
   "source": [
    "#### Desk Research"
   ]
  },
  {
   "cell_type": "markdown",
   "id": "0f50f65c",
   "metadata": {
    "ExecuteTime": {
     "end_time": "2022-11-23T13:19:11.507041Z",
     "start_time": "2022-11-23T13:19:11.495073Z"
    },
    "heading_collapsed": true,
    "hidden": true
   },
   "source": [
    "#### 1ª Solução - Modelo RFM"
   ]
  },
  {
   "cell_type": "markdown",
   "id": "f2053163",
   "metadata": {
    "hidden": true
   },
   "source": [
    "**O que é?**\n",
    "\n",
    "**Regency(R):** Tempo de Recência de compra, responsividade.\n",
    "\n",
    "**Frequencily(F):** Frequência de compra, isto é, a quantidade de produtos comprados na compra mais recente, engajamento.\n",
    "\n",
    "**Monetary(M):** Total gasto, faturamento, \"High-Value Purchase\"."
   ]
  },
  {
   "cell_type": "markdown",
   "id": "31c9e9a7",
   "metadata": {
    "hidden": true
   },
   "source": [
    "**Construção do Modelo**\n",
    "\n",
    "**Regency Score**\n",
    "   \n",
    "   - Passo 1: Ordernar os clientes por Regency\n",
    "   - Passo 2: Dividir a base de clientes de acordo com as notas. Por exemplo. Temos uma base de 100 clientes. Supondo que vamos dar notas de 1 a 5, nossa base seria dividida em 5 grupos com 20 clientes cada com as respectivas notas, em ordem decrescente.\n",
    "   \n",
    "**Frequencily Score**\n",
    "\n",
    "   - Passo 3: Ordernar os clientes por Frequencily\n",
    "   - Passo 4: Dividir a base de clientes de acordo com as notas. Por exemplo. Temos uma base de 100 clientes. Supondo que vamos dar notas de 1 a 5, nossa base seria dividida em 5 grupos com 20 clientes cada com as respectivas notas, em ordem decrescente.\n",
    "   \n",
    "**Monetary Score**\n",
    "\n",
    "   - Passo 5: Ordernar os clientes por Monetary\n",
    "   - Passo 6: Dividir a base de clientes de acordo com as notas. Por exemplo. Temos uma base de 100 clientes. Supondo que vamos dar notas de 1 a 5, nossa base seria dividida em 5 grupos com 20 clientes cada com as respectivas notas, em ordem decrescente.\n",
    "   \n",
    "   \n",
    "**RFM Score**\n",
    "\n",
    "   - Passo 7: Calcular a média(RFM Score) entre Regency, Frequencily e Monetary Score\n",
    "   - Passo 8: Realiza o rankeamento desses clientes de acordo com o RFM Score.\n",
    "   \n",
    "   \n",
    "**Plotagem dos Gráficos de acordo com os grupos.**"
   ]
  },
  {
   "cell_type": "code",
   "execution_count": null,
   "id": "914fe2e1",
   "metadata": {
    "hidden": true
   },
   "outputs": [],
   "source": []
  },
  {
   "cell_type": "code",
   "execution_count": null,
   "id": "9cd6ff34",
   "metadata": {
    "hidden": true
   },
   "outputs": [],
   "source": []
  },
  {
   "cell_type": "code",
   "execution_count": null,
   "id": "aac2b9f6",
   "metadata": {
    "hidden": true
   },
   "outputs": [],
   "source": []
  },
  {
   "cell_type": "code",
   "execution_count": null,
   "id": "34ce80c8",
   "metadata": {
    "hidden": true
   },
   "outputs": [],
   "source": []
  }
 ],
 "metadata": {
  "kernelspec": {
   "display_name": "Python 3 (ipykernel)",
   "language": "python",
   "name": "python3"
  },
  "language_info": {
   "codemirror_mode": {
    "name": "ipython",
    "version": 3
   },
   "file_extension": ".py",
   "mimetype": "text/x-python",
   "name": "python",
   "nbconvert_exporter": "python",
   "pygments_lexer": "ipython3",
   "version": "3.8.0"
  }
 },
 "nbformat": 4,
 "nbformat_minor": 5
}
