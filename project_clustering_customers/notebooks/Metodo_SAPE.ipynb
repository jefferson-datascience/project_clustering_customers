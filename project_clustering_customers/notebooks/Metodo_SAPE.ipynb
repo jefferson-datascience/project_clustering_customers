{
 "cells": [
  {
   "cell_type": "markdown",
   "id": "314d9571",
   "metadata": {},
   "source": [
    "### Empresa All in One Place"
   ]
  },
  {
   "cell_type": "markdown",
   "id": "b7530589",
   "metadata": {},
   "source": [
    "#### Problema de Negócio"
   ]
  },
  {
   "cell_type": "markdown",
   "id": "28e72012",
   "metadata": {},
   "source": [
    " A empresa All in One Place é um Outlet Multimarcas, ou seja, ela comercializa produtos de segunda linha de várias marcas a um preço menor, através de um e-commerce.\n",
    " \n",
    "   Em um pouco mais de 1 ano de operação, o time de marketing percebeu que alguns clientes de sua base compram produtos mais caros e com uma certa alta frequência ,e consequentemente, acabam contribuindo com uma parcela significativa do faturamento da empresa.\n",
    "    \n",
    "   Baseado nessa percepção, o time de marketing vai lançar um programa de fidelidade para os melhores clientes da base, chamado Insiders. Todavia, o time não tem um conhecimento avançado em análise de dados para eleger os participantes do programa.\n",
    "    \n",
    "   Por esse motivo, o time de marketing requisitou ao time de dados uma seleção de clientes elegíveis ao programa, usando técnicas avançadas de manipulação de dados."
   ]
  },
  {
   "cell_type": "markdown",
   "id": "b8603fa6",
   "metadata": {},
   "source": [
    "#### O Desafio"
   ]
  },
  {
   "cell_type": "markdown",
   "id": "a1d07132",
   "metadata": {},
   "source": [
    "   Você faz parte do time de Ciência de Dados da empresa All in One Place, que precisa determinar quem são os clientes elegíveis para participar do programa Insiders. Em posse dessa lista, o time de Marketing fará uma sequência de ações personalizadas e exclusivas ao grupo, de modo a aumentar o faturamento e a frequência de compra.\n"
   ]
  },
  {
   "cell_type": "markdown",
   "id": "903b8a49",
   "metadata": {
    "ExecuteTime": {
     "end_time": "2022-11-23T09:26:38.127394Z",
     "start_time": "2022-11-23T09:26:38.116425Z"
    }
   },
   "source": [
    "#### Questões de Negócio"
   ]
  },
  {
   "cell_type": "markdown",
   "id": "8bb78342",
   "metadata": {},
   "source": [
    "   Como resultado para esse projeto, é esperado que você entregue uma lista de pessoas elegíveis a participar do programa Insiders, junto com o relatório respondendo as seguintes perguntas:\n",
    "\n",
    "**1.** Quem são as pessoas elegíveis para participar do programa de Insiders?\n",
    "\n",
    "**2.** Quantos clientes farão parte do grupo?\n",
    "\n",
    "**3.** Quais são as principais características desses clientes?\n",
    "\n",
    "**4.** Qual a porcentagem de contribuição do faturamento, vinda do Insiders?\n",
    "\n",
    "**5.** Qual a expectativa de faturamento desse grupo para os próximos meses?\n",
    "\n",
    "**6.** Quais as condições para uma pessoa a ser elegível ao Insiders? \n",
    "\n",
    "**7.** Quais as condições para uma pessoa ser removida do Insiders?\n",
    "\n",
    "**8.** Qual a garantia que o programa Insiders é melhor que o restante da base?\n",
    "\n",
    "**9.** Quais ações o time de marketing pode realizar para aumentar o faturamento? "
   ]
  },
  {
   "cell_type": "markdown",
   "id": "37d87246",
   "metadata": {},
   "source": [
    "### Método SAPE"
   ]
  },
  {
   "cell_type": "markdown",
   "id": "5448fe04",
   "metadata": {
    "ExecuteTime": {
     "end_time": "2022-11-23T09:37:32.561340Z",
     "start_time": "2022-11-23T09:37:32.551367Z"
    },
    "heading_collapsed": true
   },
   "source": [
    "#### **1.** Quem são as pessoas elegíveis para participar do programa de Insiders?"
   ]
  },
  {
   "cell_type": "markdown",
   "id": "fb82bd5a",
   "metadata": {
    "hidden": true
   },
   "source": [
    "##### Saída"
   ]
  },
  {
   "cell_type": "markdown",
   "id": "f399d404",
   "metadata": {
    "hidden": true
   },
   "source": [
    "**Resposta:** Um agrupamento dos clientes que possuem as mesmas características dos clientes que já fazem parte da base de faturamento da empresa.\n",
    "\n",
    "**Formato de Entrega:** Uma tabela.\n",
    "\n",
    "**Local de Entrega:** Serviço de nuvem (AWS ou Heroku)."
   ]
  },
  {
   "cell_type": "markdown",
   "id": "406e9989",
   "metadata": {
    "hidden": true
   },
   "source": [
    "##### Processo"
   ]
  },
  {
   "cell_type": "markdown",
   "id": "67ca8fa1",
   "metadata": {
    "hidden": true
   },
   "source": [
    "**Passo a Passo Resposta:** Realizar a clusterização dos clientes da base por meio do aprendizado de máquina.\n",
    "\n",
    "**Passo a Passo da Entrega:** Após realizada a clusterização, armazenar os clientes em um arquivo csv.\n",
    "\n",
    "**Passo a Passo do Local de Entrega:** Dashboard na Nuvem com seções detalhadas desses clientes e suas características."
   ]
  },
  {
   "cell_type": "markdown",
   "id": "73bda678",
   "metadata": {
    "ExecuteTime": {
     "end_time": "2022-11-23T09:47:16.865245Z",
     "start_time": "2022-11-23T09:47:16.846295Z"
    },
    "hidden": true
   },
   "source": [
    "##### Entrada"
   ]
  },
  {
   "cell_type": "markdown",
   "id": "06f4b831",
   "metadata": {
    "ExecuteTime": {
     "end_time": "2022-11-23T09:53:23.281933Z",
     "start_time": "2022-11-23T09:53:22.635419Z"
    },
    "hidden": true
   },
   "source": [
    "- arquivo .csv"
   ]
  },
  {
   "cell_type": "markdown",
   "id": "b1a10d82",
   "metadata": {
    "heading_collapsed": true
   },
   "source": [
    "#### 2. Quantos clientes farão parte do grupo?"
   ]
  },
  {
   "cell_type": "markdown",
   "id": "e7de6cee",
   "metadata": {
    "hidden": true
   },
   "source": [
    "##### Saída"
   ]
  },
  {
   "cell_type": "markdown",
   "id": "f95e6ad9",
   "metadata": {
    "hidden": true
   },
   "source": [
    "**Resposta:** Número de clientes que estão na lista fornecida a equipe de marketing.\n",
    "\n",
    "**Formato de Entrega** Resposta em texto.\n",
    "\n",
    "**Local de Entrega:** Relatório disponível em Serviço de Nuvem(AWS ou Heroku)."
   ]
  },
  {
   "cell_type": "markdown",
   "id": "ca25c028",
   "metadata": {
    "ExecuteTime": {
     "end_time": "2022-11-23T10:01:13.419754Z",
     "start_time": "2022-11-23T10:01:13.412772Z"
    },
    "hidden": true
   },
   "source": [
    "##### Passo a Passo"
   ]
  },
  {
   "cell_type": "markdown",
   "id": "273be643",
   "metadata": {
    "hidden": true
   },
   "source": [
    "**Passo a Passo da Resposta:** Realizar a contagem da quantidade de clientes na lista disponibilizada na questão 1.\n",
    "    \n",
    "**Passo a Passo do Formato:** Escrever a resposta.\n",
    "\n",
    "**Passo a Passo do Local de Entrega:** Criar uma seção \"Questões do CEO\" no Dashboard e responder as questões nessa parte."
   ]
  },
  {
   "cell_type": "markdown",
   "id": "002c8619",
   "metadata": {
    "hidden": true
   },
   "source": [
    "##### Entrada"
   ]
  },
  {
   "cell_type": "markdown",
   "id": "9bbfd740",
   "metadata": {
    "hidden": true
   },
   "source": [
    "- arquivo .csv"
   ]
  },
  {
   "cell_type": "markdown",
   "id": "65e52aec",
   "metadata": {
    "ExecuteTime": {
     "end_time": "2022-11-23T10:08:01.188561Z",
     "start_time": "2022-11-23T10:08:01.173599Z"
    },
    "heading_collapsed": true
   },
   "source": [
    "#### 3. Quais são as principais características desses clientes?"
   ]
  },
  {
   "cell_type": "markdown",
   "id": "c61ebe2c",
   "metadata": {
    "hidden": true
   },
   "source": [
    "##### Saída"
   ]
  },
  {
   "cell_type": "markdown",
   "id": "940e9357",
   "metadata": {
    "hidden": true
   },
   "source": [
    "**Resposta:** Essas características são extraídas como subproduto da clusterização.\n",
    "\n",
    "**Formato de Entrega:** Resposta em Texto\n",
    "\n",
    "**Local de Entrega** Relatório disponível em serviço de nuvem.(AWS ou Heroku) "
   ]
  },
  {
   "cell_type": "markdown",
   "id": "60abc3e1",
   "metadata": {
    "hidden": true
   },
   "source": [
    "##### Passo a Passo"
   ]
  },
  {
   "cell_type": "markdown",
   "id": "b0e2d84d",
   "metadata": {
    "hidden": true
   },
   "source": [
    "**Passo a Passo da Resposta:** Usar métodos na aprendizagem de máquina que extraia as principais características desses clientes.\n",
    "\n",
    "**Passo a Passo do Formato de Entrega:** Escrever a resposta.\n",
    "\n",
    "**Passo a Passo do Local de Entrega:** Criar uma seção \"Questões do CEO\" no Dashboard e responder as questões nessa parte."
   ]
  },
  {
   "cell_type": "markdown",
   "id": "e9a164b2",
   "metadata": {
    "hidden": true
   },
   "source": [
    "##### Entrada"
   ]
  },
  {
   "cell_type": "markdown",
   "id": "ee30b150",
   "metadata": {
    "hidden": true
   },
   "source": [
    "- arquivo .csv"
   ]
  },
  {
   "cell_type": "markdown",
   "id": "4d630706",
   "metadata": {
    "heading_collapsed": true
   },
   "source": [
    "#### 4. Qual a porcentagem de contribuição do faturamento, vinda do Insiders?\n"
   ]
  },
  {
   "cell_type": "markdown",
   "id": "9611af51",
   "metadata": {
    "hidden": true
   },
   "source": [
    "##### Saída"
   ]
  },
  {
   "cell_type": "markdown",
   "id": "dc910084",
   "metadata": {
    "hidden": true
   },
   "source": [
    "**Resposta:** Calcular a porcentagem a partir da lista fornecida pela clusterização\n",
    "    \n",
    "**Formato de Entrega:** Resposta em texto\n",
    "    \n",
    "**Local de Entrega:** Relatório disponível em serviço de nuvem.(AWS ou Heroku)"
   ]
  },
  {
   "cell_type": "markdown",
   "id": "e4420fec",
   "metadata": {
    "hidden": true
   },
   "source": [
    "###### Passo a Passo"
   ]
  },
  {
   "cell_type": "markdown",
   "id": "273168e6",
   "metadata": {
    "hidden": true
   },
   "source": [
    "**Passo a Passo da Resposta:** Obter todo o faturamento da empresa, obter todo o faturamento da lista de Insiders e calcular porcetagem.\n",
    "    \n",
    "**Passo a Passo do Formato de Entrega:** Escrever a resposta.\n",
    "\n",
    "**Passo a Passo do Local de Entrega:** Criar uma seção \"Questões do CEO\" no Dashboard e responder as questões nessa parte."
   ]
  },
  {
   "cell_type": "markdown",
   "id": "0f305dbf",
   "metadata": {
    "hidden": true
   },
   "source": [
    "##### Entrada"
   ]
  },
  {
   "cell_type": "markdown",
   "id": "a01ce46e",
   "metadata": {
    "hidden": true
   },
   "source": [
    "- arquivo .csv"
   ]
  },
  {
   "cell_type": "markdown",
   "id": "748e24f3",
   "metadata": {
    "ExecuteTime": {
     "end_time": "2022-11-23T11:11:20.451682Z",
     "start_time": "2022-11-23T11:11:20.418769Z"
    },
    "heading_collapsed": true
   },
   "source": [
    "#### 5. Qual a expectativa de faturamento desse grupo para os próximos meses?"
   ]
  },
  {
   "cell_type": "markdown",
   "id": "bf56d989",
   "metadata": {
    "hidden": true
   },
   "source": [
    "##### Saída"
   ]
  },
  {
   "cell_type": "markdown",
   "id": "4f7b5c1b",
   "metadata": {
    "hidden": true
   },
   "source": [
    "**Resposta:** Estimativa das vendas de todos os períodos e realização da estimativa dos próximos meses\n",
    "    \n",
    "**Formato de Entrega:** Resposta em texto.\n",
    "    \n",
    "**Local de Entrega:** Relatório disponível em serviço de nuvem.(AWS ou Heroku)"
   ]
  },
  {
   "cell_type": "markdown",
   "id": "0d57830f",
   "metadata": {
    "hidden": true
   },
   "source": [
    "##### Passo a Passo"
   ]
  },
  {
   "cell_type": "markdown",
   "id": "1a7dde0c",
   "metadata": {
    "hidden": true
   },
   "source": [
    "**Passo a PassoPasso a Passo da Resposta:** Calcular a média das vendas de cada mês em cada ano e realizar uma estimativa para os próximos meses.\n",
    "\n",
    "**Passo a Passo do Formato de Entrega:** Escrever a resposta.\n",
    "\n",
    "**Passo a Passo do Local de Entrega:** Criar uma seção \"Questões do CEO\" no Dashboard e responder as questões nessa parte."
   ]
  },
  {
   "cell_type": "markdown",
   "id": "407e8c54",
   "metadata": {
    "hidden": true
   },
   "source": [
    "##### Entrada"
   ]
  },
  {
   "cell_type": "markdown",
   "id": "575876ea",
   "metadata": {
    "hidden": true
   },
   "source": [
    "- arquivo .csv"
   ]
  },
  {
   "cell_type": "markdown",
   "id": "b9e10c80",
   "metadata": {
    "heading_collapsed": true
   },
   "source": [
    "#### 6. Quais as condições para uma pessoa a ser elegível ao Insiders?\n",
    "\n"
   ]
  },
  {
   "cell_type": "markdown",
   "id": "cffe99e4",
   "metadata": {
    "heading_collapsed": true
   },
   "source": [
    "#### 7. Quais as condições para uma pessoa ser removida do Insiders?\n",
    "\n"
   ]
  },
  {
   "cell_type": "markdown",
   "id": "3364e7cf",
   "metadata": {
    "heading_collapsed": true
   },
   "source": [
    "#### 8. Qual a garantia que o programa Insiders é melhor que o restante da base?\n",
    "\n"
   ]
  },
  {
   "cell_type": "markdown",
   "id": "886d7386",
   "metadata": {
    "heading_collapsed": true
   },
   "source": [
    "#### 9. Quais ações o time de marketing pode realizar para aumentar o faturamento?"
   ]
  }
 ],
 "metadata": {
  "kernelspec": {
   "display_name": "Python 3 (ipykernel)",
   "language": "python",
   "name": "python3"
  },
  "language_info": {
   "codemirror_mode": {
    "name": "ipython",
    "version": 3
   },
   "file_extension": ".py",
   "mimetype": "text/x-python",
   "name": "python",
   "nbconvert_exporter": "python",
   "pygments_lexer": "ipython3",
   "version": "3.8.0"
  }
 },
 "nbformat": 4,
 "nbformat_minor": 5
}
