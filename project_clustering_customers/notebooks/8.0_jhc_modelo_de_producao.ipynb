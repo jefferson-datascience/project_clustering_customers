{
 "cells": [
  {
   "cell_type": "markdown",
   "id": "c12876eb",
   "metadata": {
    "ExecuteTime": {
     "end_time": "2022-11-23T15:54:02.047388Z",
     "start_time": "2022-11-23T15:54:02.035417Z"
    },
    "cell_style": "center"
   },
   "source": [
    "# 0.0 - Imports"
   ]
  },
  {
   "cell_type": "code",
   "execution_count": null,
   "id": "5b0ea9f6",
   "metadata": {
    "ExecuteTime": {
     "start_time": "2023-01-25T15:54:04.510Z"
    }
   },
   "outputs": [],
   "source": [
    "# Bibliotecas\n",
    "import inflection\n",
    "import numpy      as np\n",
    "import pandas     as pd\n",
    "import pickle\n",
    "import seaborn    as sns\n",
    "import s3fs\n",
    "import sqlalchemy\n",
    "import sqlite3\n",
    "import umap.umap_ as umap\n",
    "import re\n",
    "\n",
    "from IPython.display     import HTML, Image\n",
    "from matplotlib          import pyplot as plt\n",
    "from pandas_profiling    import ProfileReport\n",
    "from plotly              import express\n",
    "from sklearn             import cluster, metrics, preprocessing, decomposition, manifold, ensemble, mixture, neighbors\n",
    "from scipy.cluster       import hierarchy \n",
    "from scipy.stats         import kstest, norm\n",
    "from yellowbrick.cluster import KElbowVisualizer, SilhouetteVisualizer"
   ]
  },
  {
   "cell_type": "code",
   "execution_count": null,
   "id": "886def86",
   "metadata": {
    "ExecuteTime": {
     "start_time": "2023-01-25T15:54:04.987Z"
    }
   },
   "outputs": [],
   "source": [
    "key = os.environ.get('aws_access_key_id')\n",
    "secret = os.environ.get('aws_secret_access_key')\n",
    "fs = s3fs.S3FileSystem(anon=False, key=key , secret=secret )"
   ]
  },
  {
   "cell_type": "markdown",
   "id": "84795b9b",
   "metadata": {
    "ExecuteTime": {
     "end_time": "2022-11-23T15:55:23.740802Z",
     "start_time": "2022-11-23T15:55:23.726839Z"
    }
   },
   "source": [
    "## 0.1 - Helper Functions"
   ]
  },
  {
   "cell_type": "code",
   "execution_count": null,
   "id": "6aae573b",
   "metadata": {
    "ExecuteTime": {
     "start_time": "2023-01-25T15:54:05.502Z"
    }
   },
   "outputs": [],
   "source": [
    "# Função para remover camelcase\n",
    "snakecase = lambda x: inflection.underscore(x)\n",
    "\n",
    "# Configurações de Layout\n",
    "def jupyter_settings():\n",
    "    %matplotlib inline\n",
    "    #%pylab inline\n",
    "    \n",
    "    plt.style.use('ggplot')\n",
    "    plt.rcParams['figure.figsize'] = (24,9)\n",
    "    plt.rcParams['font.size'] = 24\n",
    "    \n",
    "    display( HTML('<style>.container {width:93% ! important; }</style>') )\n",
    "    pd.options.display.max_columns = None\n",
    "    pd.options.display.max_rows = None\n",
    "    pd.set_option('display.expand_frame_repr', False)\n",
    "    \n",
    "    sns.set()\n",
    "    \n",
    "jupyter_settings()"
   ]
  },
  {
   "cell_type": "code",
   "execution_count": null,
   "id": "c90d4954",
   "metadata": {
    "ExecuteTime": {
     "start_time": "2023-01-25T15:54:05.836Z"
    }
   },
   "outputs": [],
   "source": [
    "import os\n"
   ]
  },
  {
   "cell_type": "markdown",
   "id": "0501e7db",
   "metadata": {},
   "source": [
    "## 0.2 - Carregamento dos dados"
   ]
  },
  {
   "cell_type": "code",
   "execution_count": null,
   "id": "f8385ba6",
   "metadata": {
    "ExecuteTime": {
     "start_time": "2023-01-25T15:54:06.317Z"
    }
   },
   "outputs": [],
   "source": [
    "# Carregar os dados para análise.\n",
    "df = pd.read_csv('../data/raw/Ecommerce.csv', encoding = 'unicode_escape').drop(columns=['Unnamed: 8'])"
   ]
  },
  {
   "cell_type": "markdown",
   "id": "4c905610",
   "metadata": {
    "ExecuteTime": {
     "end_time": "2022-11-23T15:57:53.742352Z",
     "start_time": "2022-11-23T15:57:53.669547Z"
    }
   },
   "source": [
    "# 1.0 - Descrição dos Dados"
   ]
  },
  {
   "cell_type": "code",
   "execution_count": null,
   "id": "15581202",
   "metadata": {
    "ExecuteTime": {
     "start_time": "2023-01-25T15:54:06.735Z"
    }
   },
   "outputs": [],
   "source": [
    "df1 = df.copy()"
   ]
  },
  {
   "cell_type": "markdown",
   "id": "522ae10f",
   "metadata": {},
   "source": [
    "## 1.1 - Renomear Nome das Colunas"
   ]
  },
  {
   "cell_type": "code",
   "execution_count": null,
   "id": "b041a618",
   "metadata": {
    "ExecuteTime": {
     "start_time": "2023-01-25T15:54:07.692Z"
    }
   },
   "outputs": [],
   "source": [
    "# Armazenando nome antigo das colunas\n",
    "name_columns = df1.columns.tolist()\n",
    "\n",
    "# Nome das novas colunas\n",
    "new_columns = [snakecase(x) for x in name_columns]\n",
    "\n",
    "# renomear as colunas\n",
    "df1.columns = new_columns"
   ]
  },
  {
   "cell_type": "markdown",
   "id": "25214db6",
   "metadata": {},
   "source": [
    "## 1.2 - FillOut NA"
   ]
  },
  {
   "cell_type": "code",
   "execution_count": null,
   "id": "30e0debe",
   "metadata": {
    "ExecuteTime": {
     "start_time": "2023-01-25T15:54:08.067Z"
    }
   },
   "outputs": [],
   "source": [
    "# ---------------- Separação dos dados faltantes e não faltantes ----------------------------------------\n",
    "\n",
    "# Dados com o customer_id nulo\n",
    "df_missing  = df1[df1['customer_id'].isna()].copy()\n",
    "\n",
    "# Dados com o custome_id preenchido\n",
    "df_not_missing = df1[~df1['customer_id'].isna()].copy()\n",
    "\n",
    "\n",
    "# --------------- Verificação dos dados que podem coincidir nos dois conjuntos --------------------------\n",
    "\n",
    "# Listando os invoice_no dos customers na\n",
    "list_missing_invoice = df_missing['invoice_no'].unique().tolist()\n",
    "\n",
    "# Verificação\n",
    "df_not_missing[df_not_missing['customer_id'].isin(list_missing_invoice)]"
   ]
  },
  {
   "cell_type": "code",
   "execution_count": null,
   "id": "593cea0c",
   "metadata": {
    "ExecuteTime": {
     "start_time": "2023-01-25T15:54:08.323Z"
    }
   },
   "outputs": [],
   "source": [
    "# ------------------------------------- Preenchimento dos Dados -------------------------------------------   \n",
    "\n",
    "# Armazenamento dos invoice_no dos customers nulos.\n",
    "df_backup = pd.DataFrame(df_missing['invoice_no'].drop_duplicates())\n",
    "\n",
    "# Criação dos Customers Id\n",
    "df_backup['customer_id'] = np.arange(19000, 19000 + len(df_backup), 1)\n",
    "\n",
    "# Merge do Backup com o dataframe original\n",
    "df1 = pd.merge(df1, df_backup, on='invoice_no', how='left').copy()\n",
    "\n",
    "# Junção das colunas customer id em uma única.\n",
    "df1['customer_id'] = df1['customer_id_x'].combine_first(df1['customer_id_y'])\n",
    "\n",
    "# remoção das colunas customer_id_x e customer_id_y\n",
    "df1 = df1.drop(columns=['customer_id_x', 'customer_id_y'])\n",
    "\n",
    "# Verificação da Remoção dos NA's da coluna Customer.\n",
    "df1.isna().sum()"
   ]
  },
  {
   "cell_type": "markdown",
   "id": "1f9a27c9",
   "metadata": {},
   "source": [
    "## 1.3 - Limpeza dos Dados"
   ]
  },
  {
   "cell_type": "code",
   "execution_count": null,
   "id": "1db416ea",
   "metadata": {
    "ExecuteTime": {
     "start_time": "2023-01-25T15:54:09.249Z"
    }
   },
   "outputs": [],
   "source": [
    "# Nome dos paíse em tamanho minúsculo.\n",
    "df1['country'] = df1['country'].apply(lambda x: x.lower())"
   ]
  },
  {
   "cell_type": "markdown",
   "id": "a88e94dc",
   "metadata": {},
   "source": [
    "## 1.4 - Mudança de Variáveis"
   ]
  },
  {
   "cell_type": "code",
   "execution_count": null,
   "id": "e1cd8c20",
   "metadata": {
    "ExecuteTime": {
     "start_time": "2023-01-25T15:54:10.213Z"
    }
   },
   "outputs": [],
   "source": [
    "# Mudança de tipagem do invoice_date\n",
    "df1['invoice_date'] = pd.to_datetime(df1['invoice_date'], format='%d-%b-%y')\n",
    "\n",
    "# customer_id\n",
    "df1['customer_id'] = df1['customer_id'].apply(lambda x: int(x))\n",
    "\n",
    "# Verificação das Variáveis\n",
    "df1.dtypes"
   ]
  },
  {
   "cell_type": "markdown",
   "id": "da6785d6",
   "metadata": {},
   "source": [
    "## 1.5 - Estatística Descritiva "
   ]
  },
  {
   "cell_type": "markdown",
   "id": "067e5ed2",
   "metadata": {},
   "source": [
    "### 1.5.1 - Atributos Numéricos"
   ]
  },
  {
   "cell_type": "code",
   "execution_count": null,
   "id": "e9f89bd9",
   "metadata": {
    "ExecuteTime": {
     "start_time": "2023-01-25T15:54:11.326Z"
    }
   },
   "outputs": [],
   "source": [
    "# Separando somente os dados numéricos\n",
    "num_attributes = df1.select_dtypes(include=['int64', 'float64'])\n",
    "\n",
    "\n",
    "# ------------ Tendências Centrais -----------------------------------\n",
    "\n",
    "# Média\n",
    "mean = pd.DataFrame(num_attributes.apply(np.mean)).T\n",
    "\n",
    "# Mediana\n",
    "median = pd.DataFrame(num_attributes.apply(np.median)).T\n",
    "\n",
    "\n",
    "# ------------ Tendências de Dispersão -------------------------------\n",
    "\n",
    "# Máximo\n",
    "maximo = pd.DataFrame(num_attributes.apply(np.max)).T\n",
    "\n",
    "# Mínimo\n",
    "minimo = pd.DataFrame(num_attributes.apply(np.min)).T\n",
    "\n",
    "# Intervalo(Range)\n",
    "intervalo = pd.DataFrame(num_attributes.apply(lambda x: x.max() - x.min())).T\n",
    "\n",
    "# Desvio Padrão\n",
    "desvio = pd.DataFrame(num_attributes.apply(np.std)).T\n",
    "\n",
    "# Skewness\n",
    "skew = pd.DataFrame(num_attributes.apply(lambda x: x.skew())).T\n",
    "\n",
    "# Kurtosis\n",
    "kurtosis = pd.DataFrame(num_attributes.apply(lambda x: x.kurtosis())).T\n",
    "\n",
    "\n",
    "# ---------------------- Construção da Tabela de Estatística Descritiva -------------------------------\n",
    "\n",
    "# Concatenação das Tabela\n",
    "tabela_descritiva = pd.concat([minimo, maximo, intervalo, mean, median, desvio, skew, kurtosis]).T.reset_index()\n",
    "tabela_descritiva.columns = ['atributos', 'minimo', 'maximo', 'intervalo', 'media', \n",
    "                             'mediana', 'desvio_padrao', 'skewness', 'kurtosis']\n",
    "\n",
    "# Exibição da tabela descritiva\n",
    "tabela_descritiva"
   ]
  },
  {
   "cell_type": "markdown",
   "id": "37d8c66a",
   "metadata": {},
   "source": [
    "### 1.5.2 - Atributos Categóricos"
   ]
  },
  {
   "cell_type": "code",
   "execution_count": null,
   "id": "76e5c125",
   "metadata": {
    "ExecuteTime": {
     "start_time": "2023-01-25T15:54:11.992Z"
    }
   },
   "outputs": [],
   "source": [
    "# Separação das Variáveis Categóricas\n",
    "cat_attributes = df1.select_dtypes(exclude=['int64', 'float64', 'datetime64[ns]'])\n",
    "\n",
    "# Exibição das variáveis\n",
    "cat_attributes.columns"
   ]
  },
  {
   "cell_type": "markdown",
   "id": "2a45d19c",
   "metadata": {},
   "source": [
    "#### Invoice No"
   ]
  },
  {
   "cell_type": "code",
   "execution_count": null,
   "id": "97de8ae8",
   "metadata": {
    "ExecuteTime": {
     "start_time": "2023-01-25T15:54:12.549Z"
    }
   },
   "outputs": [],
   "source": [
    "# Exploração da variável invoice_no \n",
    "df_invoice =  df1.loc[cat_attributes['invoice_no'].apply(lambda x: bool(re.search('[^0-9]+', x)))]\n",
    "\n",
    "\n",
    "# --------- Verificação de quantidades negativas de invoice com letras e negativos -----------------------------------------\n",
    "\n",
    "# quantidade de dados do df_invoice\n",
    "print('Quantidade de dados de Invoice_No com a letra C no início: {}'.format(len(df_invoice)))\n",
    "\n",
    "# Quantidade de quantity negativos no df_invoice\n",
    "print('Quantidade de dados com o quantity negativo: {}.'.format(len(df_invoice[df_invoice['quantity'] < 0])))\n",
    "\n",
    "# exibição dos dados\n",
    "df_invoice.head()"
   ]
  },
  {
   "cell_type": "markdown",
   "id": "5947c69c",
   "metadata": {},
   "source": [
    "#### StockCode"
   ]
  },
  {
   "cell_type": "code",
   "execution_count": null,
   "id": "bd16235a",
   "metadata": {
    "ExecuteTime": {
     "start_time": "2023-01-25T15:54:13.068Z"
    }
   },
   "outputs": [],
   "source": [
    "# Exploração da variável stock_code\n",
    "df_stock_code =  df1.loc[cat_attributes['stock_code'].apply(lambda x: bool(re.search('^[a-zA-Z]+$', x)))]\n",
    "\n",
    "# Exibição\n",
    "print(df_stock_code['stock_code'].unique().tolist())\n",
    "df_stock_code.head()"
   ]
  },
  {
   "cell_type": "markdown",
   "id": "4f97c37f",
   "metadata": {},
   "source": [
    "#### Description"
   ]
  },
  {
   "cell_type": "code",
   "execution_count": null,
   "id": "d0280692",
   "metadata": {
    "ExecuteTime": {
     "start_time": "2023-01-25T15:54:13.663Z"
    }
   },
   "outputs": [],
   "source": [
    "cat_attributes.head()"
   ]
  },
  {
   "cell_type": "markdown",
   "id": "c818a54d",
   "metadata": {},
   "source": [
    "#### Country"
   ]
  },
  {
   "cell_type": "code",
   "execution_count": null,
   "id": "ef626708",
   "metadata": {
    "ExecuteTime": {
     "start_time": "2023-01-25T15:54:14.179Z"
    }
   },
   "outputs": [],
   "source": [
    "# Países\n",
    "cat_attributes['country'].unique()"
   ]
  },
  {
   "cell_type": "markdown",
   "id": "45ea1594",
   "metadata": {},
   "source": [
    "# 2.0 - Filtragem dos Dados"
   ]
  },
  {
   "cell_type": "code",
   "execution_count": null,
   "id": "2e135539",
   "metadata": {
    "ExecuteTime": {
     "start_time": "2023-01-25T15:54:14.740Z"
    }
   },
   "outputs": [],
   "source": [
    "df2 = df1.copy()"
   ]
  },
  {
   "cell_type": "code",
   "execution_count": null,
   "id": "dd3e8089",
   "metadata": {
    "ExecuteTime": {
     "start_time": "2023-01-25T15:54:15.033Z"
    }
   },
   "outputs": [],
   "source": [
    "# Filtragem unit_price\n",
    "df2 = df2[df2['unit_price'] >=0.04].copy()\n",
    "\n",
    "\n",
    "# --------------------- Filtragem Atributos Categóricos --------------------\n",
    "\n",
    "# lista de códigos a serem removido\n",
    "list_of_codes = df_stock_code['stock_code'].unique().tolist()\n",
    "\n",
    "# Remoção de códigos do estoque\n",
    "df2 = df2[~df2['stock_code'].isin(list_of_codes)].copy()\n",
    "\n",
    "# Remoção da variável description\n",
    "df2 = df2.drop('description', axis=1).copy()\n",
    "\n",
    "# Remoção de Países Desnecessários\n",
    "df2 = df2[~df2['country'].isin(['european community', 'unspecified'])]\n",
    "\n",
    "\n",
    "# ------------------- Filtragem Atributos Numéricos ------------------------\n",
    "\n",
    "# Armazenando os dados que foram cancelados ou devolvidos\n",
    "df_devolucao = df2[df2['quantity'] < 0].copy()\n",
    "\n",
    "# Armazenando os dados que foram faturados\n",
    "df_faturamento = df2[df2['quantity'] >= 0].copy()\n",
    "\n",
    "\n",
    "# ------------------ Remoção de Péssimos Clientes -------------------------\n",
    "\n",
    "df2 = df2[~df2['customer_id'].isin([16446])].copy()"
   ]
  },
  {
   "cell_type": "markdown",
   "id": "36d7be2c",
   "metadata": {},
   "source": [
    "# 3.0 - Feature Engineering"
   ]
  },
  {
   "cell_type": "code",
   "execution_count": null,
   "id": "f57bf7ef",
   "metadata": {
    "ExecuteTime": {
     "start_time": "2023-01-25T15:54:15.522Z"
    }
   },
   "outputs": [],
   "source": [
    "df3 = df2.copy()"
   ]
  },
  {
   "cell_type": "markdown",
   "id": "c1b1d716",
   "metadata": {},
   "source": [
    "## 3.1 - Criação das Features\n"
   ]
  },
  {
   "cell_type": "code",
   "execution_count": null,
   "id": "ded6dc65",
   "metadata": {
    "ExecuteTime": {
     "start_time": "2023-01-25T15:54:16.035Z"
    }
   },
   "outputs": [],
   "source": [
    "# Dataframe Referência\n",
    "df_ref = df_faturamento.drop(['invoice_no', 'stock_code', 'quantity', \n",
    "                              'invoice_date','unit_price', 'country'], axis=1).copy()\n",
    "\n",
    "# Remover duplicidades \n",
    "df_ref = df_ref.drop_duplicates().reset_index(drop=True)"
   ]
  },
  {
   "cell_type": "markdown",
   "id": "366c12f2",
   "metadata": {},
   "source": [
    "### 3.1.1 - Faturamento"
   ]
  },
  {
   "cell_type": "code",
   "execution_count": null,
   "id": "296609e6",
   "metadata": {
    "ExecuteTime": {
     "start_time": "2023-01-25T15:54:16.515Z"
    },
    "code_folding": []
   },
   "outputs": [],
   "source": [
    "# ----------------------------------- Construção da Feature Faturamento ----------------------------------------\n",
    "\n",
    "# Criação da variável de total comprado por produto\n",
    "df_faturamento['total_by_product'] = df_faturamento['quantity'] * df_faturamento['unit_price']\n",
    "\n",
    "# Obtendo o valor total de compra por cada customer id\n",
    "df_monetary = df_faturamento[['customer_id', 'total_by_product']].groupby('customer_id').sum().reset_index()\n",
    "\n",
    "# Renomeando colunas\n",
    "df_monetary = df_monetary.rename(columns = {'total_by_product' : 'faturamento'})\n",
    "\n",
    "# Merge do df_monetary com o dataframe referência.\n",
    "df_ref = pd.merge(df_ref, df_monetary, on='customer_id', how='left')"
   ]
  },
  {
   "cell_type": "markdown",
   "id": "79a7c325",
   "metadata": {},
   "source": [
    "### 3.1.2 - Recência em Dias da Última Compra Realizada"
   ]
  },
  {
   "cell_type": "code",
   "execution_count": null,
   "id": "83431754",
   "metadata": {
    "ExecuteTime": {
     "start_time": "2023-01-25T15:54:16.961Z"
    }
   },
   "outputs": [],
   "source": [
    "# -------------------------------------- Construção da Feature Recency -----------------------------------\n",
    "\n",
    "# Extraindo o último dia de compra do cliente\n",
    "df_recency = df_faturamento[['customer_id', 'invoice_date']].groupby('customer_id').max().reset_index()\n",
    "\n",
    "# Obtendo a quantidade de dias do momento atual da análise até o último dia de compra do cliente\n",
    "df_recency['recencia_dias'] = (df_recency['invoice_date'].max() - df_recency['invoice_date']).dt.days\n",
    "\n",
    "# Armazenando somente os dados necessários\n",
    "df_recency = df_recency[['customer_id', 'recencia_dias']].copy() \n",
    "\n",
    "# Merge do df_recency com o dataframe referência.\n",
    "df_ref = pd.merge(df_ref, df_recency, on='customer_id', how='left')"
   ]
  },
  {
   "cell_type": "markdown",
   "id": "7bd40a43",
   "metadata": {},
   "source": [
    "### 3.1.3 - Quantidade de Tipos de Produtos Comprados"
   ]
  },
  {
   "cell_type": "code",
   "execution_count": null,
   "id": "0b36dc43",
   "metadata": {
    "ExecuteTime": {
     "start_time": "2023-01-25T15:54:17.367Z"
    }
   },
   "outputs": [],
   "source": [
    "# ----------------------------------------- Construção da Feature Products Stock_code --------------------------------\n",
    "\n",
    "# Obtendo a quantidade de tipos de variedades de produtos que cada cliente comprou\n",
    "df_num_types_products = (df_faturamento[['customer_id', 'stock_code']].groupby('customer_id')\n",
    "                                                                      .count()\n",
    "                                                                      .reset_index())\n",
    "\n",
    "# Renomeando colunas\n",
    "df_num_types_products = df_num_types_products.rename(columns={'stock_code' : 'qtde_produtos_comprados'})\n",
    "\n",
    "# Merge do df_frequencily com o dataframe referência.\n",
    "df_ref = pd.merge(df_ref, df_num_types_products, on='customer_id', how='left')"
   ]
  },
  {
   "cell_type": "markdown",
   "id": "01eb6c57",
   "metadata": {},
   "source": [
    "### 3.1.4 - Taxa de Frequência de Compras Por Dia"
   ]
  },
  {
   "cell_type": "code",
   "execution_count": null,
   "id": "4b7cc563",
   "metadata": {
    "ExecuteTime": {
     "start_time": "2023-01-25T15:54:17.813Z"
    }
   },
   "outputs": [],
   "source": [
    "# Criando um DataFrame auxiliar\n",
    "df_aux = (df_faturamento[['customer_id', 'invoice_no', 'invoice_date']].drop_duplicates()\n",
    "                                                                       .groupby('customer_id')\n",
    "                                                                       .agg(max_   = ('invoice_date', 'max'),\n",
    "                                                                            min_   = ('invoice_date', 'min'),\n",
    "                                                                            days_  = ('invoice_date', lambda x: ( (x.max() - x.min()).days ) + 1 ),\n",
    "                                                                            buy_   = ('invoice_no', 'count'))\n",
    "                                                                       .reset_index())\n",
    "\n",
    "# Cálculo da taxa de frequência de compra(compras/dia)\n",
    "df_aux['frequencia_compra'] = df_aux[['days_', 'buy_']].apply(lambda x: x['buy_']/x['days_'], axis=1)\n",
    "\n",
    "# Tomando os dados da taxa de frequência de compra e os customer_id\n",
    "df_frequencily = df_aux[['customer_id', 'frequencia_compra']].copy()\n",
    "\n",
    "# Merge\n",
    "df_ref = pd.merge(df_ref, df_frequencily, on='customer_id', how='left')"
   ]
  },
  {
   "cell_type": "markdown",
   "id": "2c55abfb",
   "metadata": {
    "ExecuteTime": {
     "end_time": "2022-12-05T11:19:30.549122Z",
     "start_time": "2022-12-05T11:19:30.540109Z"
    }
   },
   "source": [
    "### 3.1.5 - Número de Devoluções"
   ]
  },
  {
   "cell_type": "code",
   "execution_count": null,
   "id": "8e577ebc",
   "metadata": {
    "ExecuteTime": {
     "start_time": "2023-01-25T15:54:18.261Z"
    }
   },
   "outputs": [],
   "source": [
    "# Armazenando a quantidade de devoluções por clientes.\n",
    "df_number_returns = ( df_devolucao[['customer_id', 'quantity']].groupby('customer_id')\n",
    "                                                               .sum()\n",
    "                                                               .reset_index()\n",
    "                                                               .rename(columns={'quantity':'qtde_devolucoes'}) )\n",
    "\n",
    "# Reajustando valores.\n",
    "df_number_returns['qtde_devolucoes'] = df_number_returns['qtde_devolucoes']*(-1)\n",
    "\n",
    "# Merge do dataframe de devoluções com o dataframe de referência\n",
    "df_ref = pd.merge(df_ref, df_number_returns, on='customer_id', how='left')\n",
    "\n",
    "# Preenchendo os na's com os valor 0.\n",
    "df_ref['qtde_devolucoes'] = df_ref['qtde_devolucoes'].apply(lambda x: 0 if pd.isna(x) else x)"
   ]
  },
  {
   "cell_type": "markdown",
   "id": "282a3975",
   "metadata": {},
   "source": [
    "# 4.0 - Análise Exploratória dos Dados"
   ]
  },
  {
   "cell_type": "code",
   "execution_count": null,
   "id": "f13cb71c",
   "metadata": {
    "ExecuteTime": {
     "start_time": "2023-01-25T15:54:18.777Z"
    },
    "scrolled": true
   },
   "outputs": [],
   "source": [
    "# Variáveis_relevantes\n",
    "columns_selected = ['customer_id', \n",
    "                    'faturamento', \n",
    "                    'recencia_dias',\n",
    "                    'qtde_produtos_comprados', \n",
    "                    'frequencia_compra', \n",
    "                    'qtde_devolucoes']\n",
    "\n",
    "df4 = df_ref[columns_selected].copy()\n",
    "\n",
    "# Dropando os dados na's. No caso, são clientes que realizaram somente uma única compra dentro de uma ano. Logo, faz sentido removê-los, a fim de \n",
    "# facilitar a clusterização dos clientes.\n",
    "df4 = df4.dropna()"
   ]
  },
  {
   "cell_type": "code",
   "execution_count": null,
   "id": "fdeb9547",
   "metadata": {
    "ExecuteTime": {
     "start_time": "2023-01-25T15:54:19.183Z"
    }
   },
   "outputs": [],
   "source": [
    "df4 = df4[df4.customer_id.isin([16446]) == False].copy()"
   ]
  },
  {
   "cell_type": "markdown",
   "id": "ec101ca4",
   "metadata": {},
   "source": [
    "# 5.0 - Preparação dos Dados"
   ]
  },
  {
   "cell_type": "code",
   "execution_count": null,
   "id": "f1674c1b",
   "metadata": {
    "ExecuteTime": {
     "start_time": "2023-01-25T15:54:20.072Z"
    }
   },
   "outputs": [],
   "source": [
    "df5 = df4.copy()"
   ]
  },
  {
   "cell_type": "code",
   "execution_count": null,
   "id": "6637be1f",
   "metadata": {
    "ExecuteTime": {
     "start_time": "2023-01-25T15:54:20.555Z"
    }
   },
   "outputs": [],
   "source": [
    "mm = preprocessing.MinMaxScaler()\n",
    "\n",
    "# ------------------------------ Padronização dos dados para input no modelo ------------------------------------------\n",
    "df5['faturamento'] = mm.fit_transform(df5[['faturamento']])\n",
    "pickle.dump(mm, open('../src/features/faturamento_scaler.pkl', 'wb')) # Salvando o modelo em pickle na pasta local\n",
    "pickle.dump(mm, fs.open('s3://insiders-hd/faturamento_scaler.pkl', 'wb')) # Salvando o modelo em pickle na s3 da aws\n",
    "\n",
    "\n",
    "df5['recencia_dias'] = mm.fit_transform(df5[['recencia_dias']])\n",
    "pickle.dump(mm, open('../src/features/recencia_dias_scaler.pkl', 'wb')) # Salvando o modelo em pickle na pasta local\n",
    "pickle.dump(mm, fs.open('s3://insiders-hd/recencia_dias_scaler.pkl', 'wb')) # Salvando o modelo em pickle na s3 da aws\n",
    "\n",
    "\n",
    "df5['qtde_produtos_comprados'] = mm.fit_transform(df5[['qtde_produtos_comprados']])\n",
    "pickle.dump(mm, open('../src/features/qtde_produtos_comprados_scaler.pkl', 'wb')) # Salvando o modelo em pickle na pasta local\n",
    "pickle.dump(mm, fs.open('s3://insiders-hd/qtde_produtos_comprados_scaler.pkl', 'wb')) # Salvando o modelo em pickle na s3 da aws\n",
    "\n",
    "\n",
    "df5['frequencia_compra'] = mm.fit_transform(df5[['frequencia_compra']])\n",
    "pickle.dump(mm, open('../src/features/frequencia_compra_scaler.pkl', 'wb')) # Salvando o modelo em pickle na pasta local\n",
    "pickle.dump(mm, fs.open('s3://insiders-hd/frequencia_compra_scaler.pkl', 'wb')) # Salvando o modelo em pickle na s3 da aws\n",
    "\n",
    "\n",
    "df5['qtde_devolucoes'] = mm.fit_transform(df5[['qtde_devolucoes']])\n",
    "pickle.dump(mm, open('../src/features/qtde_devolucoes_scaler.pkl', 'wb')) # Salvando o modelo em pickle na pasta local\n",
    "pickle.dump(mm, fs.open('s3://insiders-hd/qtde_devolucoes_scaler.pkl', 'wb')) # Salvando o modelo em pickle na s3 da aws"
   ]
  },
  {
   "cell_type": "markdown",
   "id": "eb43697e",
   "metadata": {},
   "source": [
    "# 6.0 - Seleção das Features"
   ]
  },
  {
   "cell_type": "code",
   "execution_count": null,
   "id": "8f014107",
   "metadata": {
    "ExecuteTime": {
     "start_time": "2023-01-25T15:54:23.408Z"
    }
   },
   "outputs": [],
   "source": [
    "df6 = df5.copy()\n",
    "\n",
    "# Dropagem da coluna customer_id\n",
    "X = df6.drop('customer_id', axis=1)"
   ]
  },
  {
   "cell_type": "markdown",
   "id": "5cb7482e",
   "metadata": {},
   "source": [
    "## 6.1 - Espaço de Embedding UMAP"
   ]
  },
  {
   "cell_type": "code",
   "execution_count": null,
   "id": "20ab3933",
   "metadata": {
    "ExecuteTime": {
     "start_time": "2023-01-25T15:54:23.853Z"
    }
   },
   "outputs": [],
   "source": [
    "# Instanciando o UMAP\n",
    "reducer = umap.UMAP(random_state=42)\n",
    "pickle.dump(reducer, open('../src/features/umap_reducer.pkl', 'wb')) # Salvando o modelo na pasta local\n",
    "pickle.dump(reducer, fs.open('s3://insiders-hd/umap_reducer.pkl', 'wb')) # Salvando o modelo no s3 da aws\n",
    "\n",
    "\n",
    "# Realizando o mergulho\n",
    "embedding = reducer.fit_transform(X)\n",
    "\n",
    "# Separação dos dados para plotagem.\n",
    "\n",
    "# eixo x e y\n",
    "df_umap = pd.DataFrame()\n",
    "df_umap['embedding_x'] = embedding[ : , 0]\n",
    "df_umap['embedding_y'] = embedding[ : , 1] \n",
    "\n",
    "# Plotagem\n",
    "sns.scatterplot(x='embedding_x', \n",
    "                y='embedding_y', \n",
    "                data=df_umap);"
   ]
  },
  {
   "cell_type": "code",
   "execution_count": null,
   "id": "24289e6f",
   "metadata": {
    "ExecuteTime": {
     "start_time": "2023-01-25T15:54:24.112Z"
    },
    "scrolled": false
   },
   "outputs": [],
   "source": [
    "# Instanciando o UMAP\n",
    "#reducer = manifold.TSNE(n_components=2, learning_rate='auto', init='random', n_jobs=-1)\n",
    "\n",
    "# Realizando o mergulho\n",
    "#embedding = reducer.fit_transform(X)\n",
    "\n",
    "# Separação dos dados para plotagem.\n",
    "# eixo x e y\n",
    "#df_tsne = pd.DataFrame()\n",
    "#df_tsne['embedding_x'] = embedding[ : , 0]\n",
    "#df_tsne['embedding_y'] = embedding[ : , 1] \n",
    "\n",
    "# Plotagem\n",
    "#sns.scatterplot(x='embedding_x', \n",
    "#                y='embedding_y', \n",
    "#                data=df_tsne);"
   ]
  },
  {
   "cell_type": "markdown",
   "id": "f2886ec6",
   "metadata": {},
   "source": [
    "# 7.0 - Hiperparameter FineTunning"
   ]
  },
  {
   "cell_type": "code",
   "execution_count": null,
   "id": "18deb81b",
   "metadata": {
    "ExecuteTime": {
     "start_time": "2023-01-25T15:54:24.520Z"
    }
   },
   "outputs": [],
   "source": [
    "# Ajuste dos Dados os modelos\n",
    "df_treino = df6.drop(['customer_id'], axis=1)\n",
    "\n",
    "# quantidade de cluster\n",
    "#clusters_feature = [2, 3, 4, 5, 6, 7]"
   ]
  },
  {
   "cell_type": "markdown",
   "id": "bc5d4f5f",
   "metadata": {},
   "source": [
    "## 7.1 - Hierarchical Clustering "
   ]
  },
  {
   "cell_type": "markdown",
   "id": "190f62ec",
   "metadata": {},
   "source": [
    "### Espaço de Embeeding - UMAP"
   ]
  },
  {
   "cell_type": "code",
   "execution_count": null,
   "id": "08af56fd",
   "metadata": {
    "ExecuteTime": {
     "start_time": "2023-01-25T15:54:25.113Z"
    }
   },
   "outputs": [],
   "source": [
    "# Lista Vazia para armazenar os scores\n",
    "hierarchical_list_embeeding_umap = list()\n",
    "\n",
    "clusters = np.arange(2,15,1)\n",
    "\n",
    "for k in clusters:\n",
    "    # Definição do Modelo e treino\n",
    "    hierarchical_cluster_model = hierarchy.linkage(df_umap, 'ward')\n",
    "\n",
    "    # Predição do Modelo\n",
    "    labels = hierarchy.fcluster(hierarchical_cluster_model, k, criterion='maxclust')\n",
    "\n",
    "    # Analise da Silhouette \n",
    "    sil_score = metrics.silhouette_score(df_umap, labels, metric='euclidean')\n",
    "    \n",
    "    # Armazenamento do silhouette score\n",
    "    hierarchical_list_embeeding_umap.append(sil_score)\n",
    "\n",
    "# Plotagem dos scores\n",
    "plt.plot(clusters, hierarchical_list_embeeding_umap, linestyle='--', marker='o', color='b');"
   ]
  },
  {
   "cell_type": "markdown",
   "id": "0f1aa495",
   "metadata": {},
   "source": [
    "# 8.0 - Treinamento do Modelo"
   ]
  },
  {
   "cell_type": "markdown",
   "id": "897bc26f",
   "metadata": {},
   "source": [
    "## Espaço - UMAP"
   ]
  },
  {
   "cell_type": "markdown",
   "id": "623ff6cc",
   "metadata": {},
   "source": [
    "### Hierarchical CrossValidation"
   ]
  },
  {
   "cell_type": "code",
   "execution_count": null,
   "id": "a2d18de4",
   "metadata": {
    "ExecuteTime": {
     "start_time": "2023-01-25T15:54:25.933Z"
    }
   },
   "outputs": [],
   "source": [
    "# Definição do Modelo e Treino\n",
    "k = 8\n",
    "hierarchical_cluster_model = hierarchy.linkage(df_umap, 'ward')\n",
    "\n",
    "# Predição do Modelo\n",
    "labels_hierarchical_umap = hierarchy.fcluster(hierarchical_cluster_model, k, criterion='maxclust')\n",
    "\n",
    "# Silhouette Score\n",
    "print('Silhouette Score: {}'.format(metrics.silhouette_score(df_umap, labels_hierarchical_umap, metric='euclidean')))"
   ]
  },
  {
   "cell_type": "markdown",
   "id": "5d52de11",
   "metadata": {},
   "source": [
    "# 9.0 - Cluster Analysis"
   ]
  },
  {
   "cell_type": "code",
   "execution_count": null,
   "id": "42514501",
   "metadata": {
    "ExecuteTime": {
     "start_time": "2023-01-25T15:54:26.454Z"
    }
   },
   "outputs": [],
   "source": [
    "df9_umap = df_umap.copy()"
   ]
  },
  {
   "cell_type": "markdown",
   "id": "a117aa1a",
   "metadata": {},
   "source": [
    "## Espaço UMAP"
   ]
  },
  {
   "cell_type": "markdown",
   "id": "0d7774aa",
   "metadata": {},
   "source": [
    "### Inspeção por Visualização - Hierarchical"
   ]
  },
  {
   "cell_type": "code",
   "execution_count": null,
   "id": "d3c1dfa1",
   "metadata": {
    "ExecuteTime": {
     "start_time": "2023-01-25T15:54:28.787Z"
    },
    "scrolled": false
   },
   "outputs": [],
   "source": [
    "# Rotulando cada cliente de acordo o o seu cluster\n",
    "df9_umap['cluster'] = labels_hierarchical_umap\n",
    "\n",
    "sns.scatterplot(x='embedding_x', y='embedding_y', hue='cluster', palette='deep', data=df9_umap);"
   ]
  },
  {
   "cell_type": "markdown",
   "id": "f1ea70c5",
   "metadata": {},
   "source": [
    "## 9.1 - Perfil Final dos Cluster"
   ]
  },
  {
   "cell_type": "code",
   "execution_count": null,
   "id": "b37fcfd0",
   "metadata": {
    "ExecuteTime": {
     "start_time": "2023-01-25T15:54:29.418Z"
    }
   },
   "outputs": [],
   "source": [
    "# rotular cada cliente de acordo com o seu cluster\n",
    "df4['cluster'] = labels_hierarchical_umap\n",
    "\n",
    "# quantidade de clientes por cluster\n",
    "df_cluster = df4[['customer_id', 'cluster']].groupby('cluster').count().reset_index().rename(columns={'customer_id':'number_customers'})\n",
    "\n",
    "# Media de Faturamento por Cluster\n",
    "df_mean_gross_revenue = df4[['faturamento', \n",
    "                                'cluster']].groupby('cluster').mean().reset_index().rename(columns= {'faturamento':'media_faturamento'})\n",
    "\n",
    "# Media de Recência de Compras\n",
    "df_mean_recencia = df4[['recencia_dias', \n",
    "                             'cluster']].groupby('cluster').mean().reset_index().rename(columns={'recencia_dias':'media_recencia'})\n",
    "\n",
    "# Media de Recências\n",
    "df_mean_produtos_comprados = df4[['qtde_produtos_comprados', \n",
    "                              'cluster']].groupby('cluster').mean().reset_index().rename(columns={'qtde_produtos_comprados':'media_produtos_comprados'})\n",
    "\n",
    "# Media das compras\n",
    "df_mean_frequency = df4[['frequencia_compra', 'cluster']].groupby('cluster').mean().reset_index()\n",
    "\n",
    "# Média de DEvoluções\n",
    "df_mean_returns = df4[['qtde_devolucoes', 'cluster']].groupby('cluster').mean().reset_index()\n",
    "\n",
    "\n",
    "# Junção de todos os dados em uma única tabela.\n",
    "df_aux = pd.merge(df_cluster, df_mean_gross_revenue, how='inner', on='cluster')\n",
    "df_aux = pd.merge(df_aux, df_mean_recencia, how='inner', on='cluster')\n",
    "df_aux = pd.merge(df_aux, df_mean_produtos_comprados, how='inner', on='cluster')\n",
    "df_aux = pd.merge(df_aux, df_mean_frequency, how='inner', on='cluster')\n",
    "df_aux = pd.merge(df_aux, df_mean_returns, how='inner', on='cluster')\n",
    "\n",
    "tabela_final = df_aux.copy()\n",
    "# Criação da coluna que nos dá o percentual de clientes em cada cluster.\n",
    "tabela_final['number_customer_percentual'] = round((tabela_final['number_customers']/tabela_final['number_customers'].sum())*100, 2)"
   ]
  },
  {
   "cell_type": "code",
   "execution_count": null,
   "id": "54c66bad",
   "metadata": {
    "ExecuteTime": {
     "start_time": "2023-01-25T15:54:43.276Z"
    }
   },
   "outputs": [],
   "source": [
    "tabela_final = tabela_final.sort_values('media_faturamento', ascending=False).reset_index(drop=True)\n",
    "tabela_final.to_csv('../data/raw/relatorio_final_clusters.csv', index=False)"
   ]
  },
  {
   "cell_type": "markdown",
   "id": "eea13590",
   "metadata": {},
   "source": [
    "# 10.0 - Inserção dos Dados no Banco de Dados "
   ]
  },
  {
   "cell_type": "markdown",
   "id": "001b8823",
   "metadata": {},
   "source": [
    "## 10.1 - Criar o Banco de Dados e a Tabela\n"
   ]
  },
  {
   "cell_type": "code",
   "execution_count": null,
   "id": "cc8ed318",
   "metadata": {
    "ExecuteTime": {
     "start_time": "2023-01-25T15:54:47.240Z"
    }
   },
   "outputs": [],
   "source": [
    "# Ajuste de Variáveis\n",
    "df4['qtde_devolucoes'] = df4['qtde_devolucoes'].astype(np.int64) \n",
    "df4['cluster'] = df4['cluster'].astype(np.int64)"
   ]
  },
  {
   "cell_type": "code",
   "execution_count": null,
   "id": "af56c53f",
   "metadata": {
    "ExecuteTime": {
     "start_time": "2023-01-25T15:54:49.208Z"
    }
   },
   "outputs": [],
   "source": [
    "# Criar o Banco de Dados\n",
    "#connection = sqlite3.connect('insiders_db.sqlite')\n",
    "\n",
    "# Criar a tabela que vai armazenar os dados\n",
    "#query_create_table = \"\"\"\n",
    "#    CREATE TABLE insiders(\n",
    "#    customer_id                  INTEGER,\n",
    "#    faturamento                  REAL,\n",
    "#    recencia_dias                INTEGER,\n",
    "#    qtde_produtos_comprados      INTEGER,\n",
    "#    frequencia_compra            REAL,\n",
    "#    qtde_devolucoes              INTEGER,\n",
    "#    cluster                      INTEGER\n",
    "#    )\n",
    "#    \n",
    "#\"\"\"\n",
    "#\n",
    "## Comando para executar a query que cria a tabela\n",
    "#connection.execute(query_create_table)\n",
    "#\n",
    "## Commit para Finalizar a criação\n",
    "#connection.commit()\n",
    "#\n",
    "## Fechando a conexão\n",
    "#connection.close()"
   ]
  },
  {
   "cell_type": "markdown",
   "id": "98a7eb49",
   "metadata": {
    "ExecuteTime": {
     "end_time": "2023-01-13T12:20:01.860526Z",
     "start_time": "2023-01-13T12:20:01.838618Z"
    }
   },
   "source": [
    "## 10.2 -  Inserindo os dados na Tabela"
   ]
  },
  {
   "cell_type": "code",
   "execution_count": 42,
   "id": "72201d4e",
   "metadata": {
    "ExecuteTime": {
     "end_time": "2023-01-23T19:17:47.876647Z",
     "start_time": "2023-01-23T19:17:47.311591Z"
    }
   },
   "outputs": [
    {
     "data": {
      "text/plain": [
       "5695"
      ]
     },
     "execution_count": 42,
     "metadata": {},
     "output_type": "execute_result"
    }
   ],
   "source": [
    "# Criar uma conexão com o banco de dados\n",
    "connection = sqlalchemy.create_engine('sqlite:///insiders_db.sqlite')\n",
    "\n",
    "# Inserindo os dados\n",
    "df4.to_sql('insiders', con=connection, if_exists='append', index=False)"
   ]
  },
  {
   "cell_type": "markdown",
   "id": "e33b0554",
   "metadata": {},
   "source": [
    "## 10.3 - Seleção de Dados para Confirmação de Upload "
   ]
  },
  {
   "cell_type": "code",
   "execution_count": 43,
   "id": "7d43d70d",
   "metadata": {
    "ExecuteTime": {
     "end_time": "2023-01-23T19:17:48.068173Z",
     "start_time": "2023-01-23T19:17:48.057200Z"
    }
   },
   "outputs": [],
   "source": [
    "# Seleção dos Dados\n",
    "#dataframe = pd.read_sql(\"SELECT * FROM insiders\", con=connection)"
   ]
  }
 ],
 "metadata": {
  "kernelspec": {
   "display_name": "Python 3 (ipykernel)",
   "language": "python",
   "name": "python3"
  },
  "language_info": {
   "codemirror_mode": {
    "name": "ipython",
    "version": 3
   },
   "file_extension": ".py",
   "mimetype": "text/x-python",
   "name": "python",
   "nbconvert_exporter": "python",
   "pygments_lexer": "ipython3",
   "version": "3.8.0"
  }
 },
 "nbformat": 4,
 "nbformat_minor": 5
}
