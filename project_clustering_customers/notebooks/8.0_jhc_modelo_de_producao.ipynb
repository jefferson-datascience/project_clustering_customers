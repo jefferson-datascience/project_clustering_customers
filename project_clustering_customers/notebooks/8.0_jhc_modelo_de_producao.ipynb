{
 "cells": [
  {
   "cell_type": "markdown",
   "id": "c12876eb",
   "metadata": {
    "ExecuteTime": {
     "end_time": "2022-11-23T15:54:02.047388Z",
     "start_time": "2022-11-23T15:54:02.035417Z"
    },
    "cell_style": "center"
   },
   "source": [
    "# 0.0 - Imports"
   ]
  },
  {
   "cell_type": "code",
   "execution_count": 4,
   "id": "5b0ea9f6",
   "metadata": {
    "ExecuteTime": {
     "end_time": "2023-01-26T10:08:56.930112Z",
     "start_time": "2023-01-26T10:08:56.911130Z"
    }
   },
   "outputs": [],
   "source": [
    "# Bibliotecas\n",
    "import inflection\n",
    "import numpy      as np\n",
    "import pandas     as pd\n",
    "import pickle\n",
    "import seaborn    as sns\n",
    "import s3fs\n",
    "import sqlalchemy\n",
    "import sqlite3\n",
    "import umap.umap_ as umap\n",
    "import re\n",
    "import os\n",
    "\n",
    "from IPython.display     import HTML, Image\n",
    "from matplotlib          import pyplot as plt\n",
    "from pandas_profiling    import ProfileReport\n",
    "from plotly              import express\n",
    "from sklearn             import cluster, metrics, preprocessing, decomposition, manifold, ensemble, mixture, neighbors\n",
    "from scipy.cluster       import hierarchy \n",
    "from scipy.stats         import kstest, norm\n",
    "from yellowbrick.cluster import KElbowVisualizer, SilhouetteVisualizer"
   ]
  },
  {
   "cell_type": "code",
   "execution_count": 5,
   "id": "886def86",
   "metadata": {
    "ExecuteTime": {
     "end_time": "2023-01-26T10:08:57.448775Z",
     "start_time": "2023-01-26T10:08:57.429823Z"
    }
   },
   "outputs": [],
   "source": [
    "key = os.environ.get('aws_access_key_id')\n",
    "secret = os.environ.get('aws_secret_access_key')\n",
    "fs = s3fs.S3FileSystem(anon=False, key=key , secret=secret )"
   ]
  },
  {
   "cell_type": "markdown",
   "id": "84795b9b",
   "metadata": {
    "ExecuteTime": {
     "end_time": "2022-11-23T15:55:23.740802Z",
     "start_time": "2022-11-23T15:55:23.726839Z"
    }
   },
   "source": [
    "## 0.1 - Helper Functions"
   ]
  },
  {
   "cell_type": "code",
   "execution_count": 6,
   "id": "6aae573b",
   "metadata": {
    "ExecuteTime": {
     "end_time": "2023-01-26T10:08:59.571068Z",
     "start_time": "2023-01-26T10:08:59.528598Z"
    }
   },
   "outputs": [
    {
     "data": {
      "text/html": [
       "<style>.container {width:93% ! important; }</style>"
      ],
      "text/plain": [
       "<IPython.core.display.HTML object>"
      ]
     },
     "metadata": {},
     "output_type": "display_data"
    }
   ],
   "source": [
    "# Função para remover camelcase\n",
    "snakecase = lambda x: inflection.underscore(x)\n",
    "\n",
    "# Configurações de Layout\n",
    "def jupyter_settings():\n",
    "    %matplotlib inline\n",
    "    #%pylab inline\n",
    "    \n",
    "    plt.style.use('ggplot')\n",
    "    plt.rcParams['figure.figsize'] = (24,9)\n",
    "    plt.rcParams['font.size'] = 24\n",
    "    \n",
    "    display( HTML('<style>.container {width:93% ! important; }</style>') )\n",
    "    pd.options.display.max_columns = None\n",
    "    pd.options.display.max_rows = None\n",
    "    pd.set_option('display.expand_frame_repr', False)\n",
    "    \n",
    "    sns.set()\n",
    "    \n",
    "jupyter_settings()"
   ]
  },
  {
   "cell_type": "code",
   "execution_count": 7,
   "id": "c90d4954",
   "metadata": {
    "ExecuteTime": {
     "end_time": "2023-01-26T10:09:00.313644Z",
     "start_time": "2023-01-26T10:09:00.307659Z"
    }
   },
   "outputs": [],
   "source": [
    "import os\n"
   ]
  },
  {
   "cell_type": "markdown",
   "id": "0501e7db",
   "metadata": {},
   "source": [
    "## 0.2 - Carregamento dos dados"
   ]
  },
  {
   "cell_type": "code",
   "execution_count": 8,
   "id": "f8385ba6",
   "metadata": {
    "ExecuteTime": {
     "end_time": "2023-01-26T10:09:03.467648Z",
     "start_time": "2023-01-26T10:09:01.642119Z"
    }
   },
   "outputs": [],
   "source": [
    "# Carregar os dados para análise.\n",
    "df = pd.read_csv('../data/raw/Ecommerce.csv', encoding = 'unicode_escape').drop(columns=['Unnamed: 8'])"
   ]
  },
  {
   "cell_type": "markdown",
   "id": "4c905610",
   "metadata": {
    "ExecuteTime": {
     "end_time": "2022-11-23T15:57:53.742352Z",
     "start_time": "2022-11-23T15:57:53.669547Z"
    }
   },
   "source": [
    "# 1.0 - Descrição dos Dados"
   ]
  },
  {
   "cell_type": "code",
   "execution_count": 9,
   "id": "15581202",
   "metadata": {
    "ExecuteTime": {
     "end_time": "2023-01-26T10:09:04.124868Z",
     "start_time": "2023-01-26T10:09:04.092952Z"
    }
   },
   "outputs": [],
   "source": [
    "df1 = df.copy()"
   ]
  },
  {
   "cell_type": "markdown",
   "id": "522ae10f",
   "metadata": {},
   "source": [
    "## 1.1 - Renomear Nome das Colunas"
   ]
  },
  {
   "cell_type": "code",
   "execution_count": 10,
   "id": "b041a618",
   "metadata": {
    "ExecuteTime": {
     "end_time": "2023-01-26T10:09:07.357923Z",
     "start_time": "2023-01-26T10:09:07.350941Z"
    }
   },
   "outputs": [],
   "source": [
    "# Armazenando nome antigo das colunas\n",
    "name_columns = df1.columns.tolist()\n",
    "\n",
    "# Nome das novas colunas\n",
    "new_columns = [snakecase(x) for x in name_columns]\n",
    "\n",
    "# renomear as colunas\n",
    "df1.columns = new_columns"
   ]
  },
  {
   "cell_type": "markdown",
   "id": "25214db6",
   "metadata": {},
   "source": [
    "## 1.2 - FillOut NA"
   ]
  },
  {
   "cell_type": "code",
   "execution_count": 11,
   "id": "30e0debe",
   "metadata": {
    "ExecuteTime": {
     "end_time": "2023-01-26T10:09:08.313441Z",
     "start_time": "2023-01-26T10:09:08.096008Z"
    }
   },
   "outputs": [
    {
     "data": {
      "text/html": [
       "<div>\n",
       "<style scoped>\n",
       "    .dataframe tbody tr th:only-of-type {\n",
       "        vertical-align: middle;\n",
       "    }\n",
       "\n",
       "    .dataframe tbody tr th {\n",
       "        vertical-align: top;\n",
       "    }\n",
       "\n",
       "    .dataframe thead th {\n",
       "        text-align: right;\n",
       "    }\n",
       "</style>\n",
       "<table border=\"1\" class=\"dataframe\">\n",
       "  <thead>\n",
       "    <tr style=\"text-align: right;\">\n",
       "      <th></th>\n",
       "      <th>invoice_no</th>\n",
       "      <th>stock_code</th>\n",
       "      <th>description</th>\n",
       "      <th>quantity</th>\n",
       "      <th>invoice_date</th>\n",
       "      <th>unit_price</th>\n",
       "      <th>customer_id</th>\n",
       "      <th>country</th>\n",
       "    </tr>\n",
       "  </thead>\n",
       "  <tbody>\n",
       "  </tbody>\n",
       "</table>\n",
       "</div>"
      ],
      "text/plain": [
       "Empty DataFrame\n",
       "Columns: [invoice_no, stock_code, description, quantity, invoice_date, unit_price, customer_id, country]\n",
       "Index: []"
      ]
     },
     "execution_count": 11,
     "metadata": {},
     "output_type": "execute_result"
    }
   ],
   "source": [
    "# ---------------- Separação dos dados faltantes e não faltantes ----------------------------------------\n",
    "\n",
    "# Dados com o customer_id nulo\n",
    "df_missing  = df1[df1['customer_id'].isna()].copy()\n",
    "\n",
    "# Dados com o custome_id preenchido\n",
    "df_not_missing = df1[~df1['customer_id'].isna()].copy()\n",
    "\n",
    "\n",
    "# --------------- Verificação dos dados que podem coincidir nos dois conjuntos --------------------------\n",
    "\n",
    "# Listando os invoice_no dos customers na\n",
    "list_missing_invoice = df_missing['invoice_no'].unique().tolist()\n",
    "\n",
    "# Verificação\n",
    "df_not_missing[df_not_missing['customer_id'].isin(list_missing_invoice)]"
   ]
  },
  {
   "cell_type": "code",
   "execution_count": 12,
   "id": "593cea0c",
   "metadata": {
    "ExecuteTime": {
     "end_time": "2023-01-26T10:09:09.563622Z",
     "start_time": "2023-01-26T10:09:08.430587Z"
    }
   },
   "outputs": [
    {
     "data": {
      "text/plain": [
       "invoice_no         0\n",
       "stock_code         0\n",
       "description     1454\n",
       "quantity           0\n",
       "invoice_date       0\n",
       "unit_price         0\n",
       "country            0\n",
       "customer_id        0\n",
       "dtype: int64"
      ]
     },
     "execution_count": 12,
     "metadata": {},
     "output_type": "execute_result"
    }
   ],
   "source": [
    "# ------------------------------------- Preenchimento dos Dados -------------------------------------------   \n",
    "\n",
    "# Armazenamento dos invoice_no dos customers nulos.\n",
    "df_backup = pd.DataFrame(df_missing['invoice_no'].drop_duplicates())\n",
    "\n",
    "# Criação dos Customers Id\n",
    "df_backup['customer_id'] = np.arange(19000, 19000 + len(df_backup), 1)\n",
    "\n",
    "# Merge do Backup com o dataframe original\n",
    "df1 = pd.merge(df1, df_backup, on='invoice_no', how='left').copy()\n",
    "\n",
    "# Junção das colunas customer id em uma única.\n",
    "df1['customer_id'] = df1['customer_id_x'].combine_first(df1['customer_id_y'])\n",
    "\n",
    "# remoção das colunas customer_id_x e customer_id_y\n",
    "df1 = df1.drop(columns=['customer_id_x', 'customer_id_y'])\n",
    "\n",
    "# Verificação da Remoção dos NA's da coluna Customer.\n",
    "df1.isna().sum()"
   ]
  },
  {
   "cell_type": "markdown",
   "id": "1f9a27c9",
   "metadata": {},
   "source": [
    "## 1.3 - Limpeza dos Dados"
   ]
  },
  {
   "cell_type": "code",
   "execution_count": 13,
   "id": "1db416ea",
   "metadata": {
    "ExecuteTime": {
     "end_time": "2023-01-26T10:09:09.813973Z",
     "start_time": "2023-01-26T10:09:09.568678Z"
    }
   },
   "outputs": [],
   "source": [
    "# Nome dos paíse em tamanho minúsculo.\n",
    "df1['country'] = df1['country'].apply(lambda x: x.lower())"
   ]
  },
  {
   "cell_type": "markdown",
   "id": "a88e94dc",
   "metadata": {},
   "source": [
    "## 1.4 - Mudança de Variáveis"
   ]
  },
  {
   "cell_type": "code",
   "execution_count": 14,
   "id": "e1cd8c20",
   "metadata": {
    "ExecuteTime": {
     "end_time": "2023-01-26T10:09:10.697128Z",
     "start_time": "2023-01-26T10:09:10.097386Z"
    }
   },
   "outputs": [
    {
     "data": {
      "text/plain": [
       "invoice_no              object\n",
       "stock_code              object\n",
       "description             object\n",
       "quantity                 int64\n",
       "invoice_date    datetime64[ns]\n",
       "unit_price             float64\n",
       "country                 object\n",
       "customer_id              int64\n",
       "dtype: object"
      ]
     },
     "execution_count": 14,
     "metadata": {},
     "output_type": "execute_result"
    }
   ],
   "source": [
    "# Mudança de tipagem do invoice_date\n",
    "df1['invoice_date'] = pd.to_datetime(df1['invoice_date'], format='%d-%b-%y')\n",
    "\n",
    "# customer_id\n",
    "df1['customer_id'] = df1['customer_id'].apply(lambda x: int(x))\n",
    "\n",
    "# Verificação das Variáveis\n",
    "df1.dtypes"
   ]
  },
  {
   "cell_type": "markdown",
   "id": "da6785d6",
   "metadata": {},
   "source": [
    "## 1.5 - Estatística Descritiva "
   ]
  },
  {
   "cell_type": "markdown",
   "id": "067e5ed2",
   "metadata": {},
   "source": [
    "### 1.5.1 - Atributos Numéricos"
   ]
  },
  {
   "cell_type": "code",
   "execution_count": 15,
   "id": "e9f89bd9",
   "metadata": {
    "ExecuteTime": {
     "end_time": "2023-01-26T10:09:11.076247Z",
     "start_time": "2023-01-26T10:09:10.838832Z"
    }
   },
   "outputs": [
    {
     "data": {
      "text/html": [
       "<div>\n",
       "<style scoped>\n",
       "    .dataframe tbody tr th:only-of-type {\n",
       "        vertical-align: middle;\n",
       "    }\n",
       "\n",
       "    .dataframe tbody tr th {\n",
       "        vertical-align: top;\n",
       "    }\n",
       "\n",
       "    .dataframe thead th {\n",
       "        text-align: right;\n",
       "    }\n",
       "</style>\n",
       "<table border=\"1\" class=\"dataframe\">\n",
       "  <thead>\n",
       "    <tr style=\"text-align: right;\">\n",
       "      <th></th>\n",
       "      <th>atributos</th>\n",
       "      <th>minimo</th>\n",
       "      <th>maximo</th>\n",
       "      <th>intervalo</th>\n",
       "      <th>media</th>\n",
       "      <th>mediana</th>\n",
       "      <th>desvio_padrao</th>\n",
       "      <th>skewness</th>\n",
       "      <th>kurtosis</th>\n",
       "    </tr>\n",
       "  </thead>\n",
       "  <tbody>\n",
       "    <tr>\n",
       "      <th>0</th>\n",
       "      <td>quantity</td>\n",
       "      <td>-80995.00</td>\n",
       "      <td>80995.0</td>\n",
       "      <td>161990.00</td>\n",
       "      <td>9.552250</td>\n",
       "      <td>3.00</td>\n",
       "      <td>218.080957</td>\n",
       "      <td>-0.264076</td>\n",
       "      <td>119769.160031</td>\n",
       "    </tr>\n",
       "    <tr>\n",
       "      <th>1</th>\n",
       "      <td>unit_price</td>\n",
       "      <td>-11062.06</td>\n",
       "      <td>38970.0</td>\n",
       "      <td>50032.06</td>\n",
       "      <td>4.611114</td>\n",
       "      <td>2.08</td>\n",
       "      <td>96.759764</td>\n",
       "      <td>186.506972</td>\n",
       "      <td>59005.719097</td>\n",
       "    </tr>\n",
       "    <tr>\n",
       "      <th>2</th>\n",
       "      <td>customer_id</td>\n",
       "      <td>12346.00</td>\n",
       "      <td>22709.0</td>\n",
       "      <td>10363.00</td>\n",
       "      <td>16688.840453</td>\n",
       "      <td>16249.00</td>\n",
       "      <td>2911.408666</td>\n",
       "      <td>0.487449</td>\n",
       "      <td>-0.804287</td>\n",
       "    </tr>\n",
       "  </tbody>\n",
       "</table>\n",
       "</div>"
      ],
      "text/plain": [
       "     atributos    minimo   maximo  intervalo         media   mediana  desvio_padrao    skewness       kurtosis\n",
       "0     quantity -80995.00  80995.0  161990.00      9.552250      3.00     218.080957   -0.264076  119769.160031\n",
       "1   unit_price -11062.06  38970.0   50032.06      4.611114      2.08      96.759764  186.506972   59005.719097\n",
       "2  customer_id  12346.00  22709.0   10363.00  16688.840453  16249.00    2911.408666    0.487449      -0.804287"
      ]
     },
     "execution_count": 15,
     "metadata": {},
     "output_type": "execute_result"
    }
   ],
   "source": [
    "# Separando somente os dados numéricos\n",
    "num_attributes = df1.select_dtypes(include=['int64', 'float64'])\n",
    "\n",
    "\n",
    "# ------------ Tendências Centrais -----------------------------------\n",
    "\n",
    "# Média\n",
    "mean = pd.DataFrame(num_attributes.apply(np.mean)).T\n",
    "\n",
    "# Mediana\n",
    "median = pd.DataFrame(num_attributes.apply(np.median)).T\n",
    "\n",
    "\n",
    "# ------------ Tendências de Dispersão -------------------------------\n",
    "\n",
    "# Máximo\n",
    "maximo = pd.DataFrame(num_attributes.apply(np.max)).T\n",
    "\n",
    "# Mínimo\n",
    "minimo = pd.DataFrame(num_attributes.apply(np.min)).T\n",
    "\n",
    "# Intervalo(Range)\n",
    "intervalo = pd.DataFrame(num_attributes.apply(lambda x: x.max() - x.min())).T\n",
    "\n",
    "# Desvio Padrão\n",
    "desvio = pd.DataFrame(num_attributes.apply(np.std)).T\n",
    "\n",
    "# Skewness\n",
    "skew = pd.DataFrame(num_attributes.apply(lambda x: x.skew())).T\n",
    "\n",
    "# Kurtosis\n",
    "kurtosis = pd.DataFrame(num_attributes.apply(lambda x: x.kurtosis())).T\n",
    "\n",
    "\n",
    "# ---------------------- Construção da Tabela de Estatística Descritiva -------------------------------\n",
    "\n",
    "# Concatenação das Tabela\n",
    "tabela_descritiva = pd.concat([minimo, maximo, intervalo, mean, median, desvio, skew, kurtosis]).T.reset_index()\n",
    "tabela_descritiva.columns = ['atributos', 'minimo', 'maximo', 'intervalo', 'media', \n",
    "                             'mediana', 'desvio_padrao', 'skewness', 'kurtosis']\n",
    "\n",
    "# Exibição da tabela descritiva\n",
    "tabela_descritiva"
   ]
  },
  {
   "cell_type": "markdown",
   "id": "37d8c66a",
   "metadata": {},
   "source": [
    "### 1.5.2 - Atributos Categóricos"
   ]
  },
  {
   "cell_type": "code",
   "execution_count": 16,
   "id": "76e5c125",
   "metadata": {
    "ExecuteTime": {
     "end_time": "2023-01-26T10:09:11.574556Z",
     "start_time": "2023-01-26T10:09:11.471775Z"
    }
   },
   "outputs": [
    {
     "data": {
      "text/plain": [
       "Index(['invoice_no', 'stock_code', 'description', 'country'], dtype='object')"
      ]
     },
     "execution_count": 16,
     "metadata": {},
     "output_type": "execute_result"
    }
   ],
   "source": [
    "# Separação das Variáveis Categóricas\n",
    "cat_attributes = df1.select_dtypes(exclude=['int64', 'float64', 'datetime64[ns]'])\n",
    "\n",
    "# Exibição das variáveis\n",
    "cat_attributes.columns"
   ]
  },
  {
   "cell_type": "markdown",
   "id": "2a45d19c",
   "metadata": {},
   "source": [
    "#### Invoice No"
   ]
  },
  {
   "cell_type": "code",
   "execution_count": 17,
   "id": "97de8ae8",
   "metadata": {
    "ExecuteTime": {
     "end_time": "2023-01-26T10:09:13.756316Z",
     "start_time": "2023-01-26T10:09:12.285036Z"
    }
   },
   "outputs": [
    {
     "name": "stdout",
     "output_type": "stream",
     "text": [
      "Quantidade de dados de Invoice_No com a letra C no início: 9291\n",
      "Quantidade de dados com o quantity negativo: 9288.\n"
     ]
    },
    {
     "data": {
      "text/html": [
       "<div>\n",
       "<style scoped>\n",
       "    .dataframe tbody tr th:only-of-type {\n",
       "        vertical-align: middle;\n",
       "    }\n",
       "\n",
       "    .dataframe tbody tr th {\n",
       "        vertical-align: top;\n",
       "    }\n",
       "\n",
       "    .dataframe thead th {\n",
       "        text-align: right;\n",
       "    }\n",
       "</style>\n",
       "<table border=\"1\" class=\"dataframe\">\n",
       "  <thead>\n",
       "    <tr style=\"text-align: right;\">\n",
       "      <th></th>\n",
       "      <th>invoice_no</th>\n",
       "      <th>stock_code</th>\n",
       "      <th>description</th>\n",
       "      <th>quantity</th>\n",
       "      <th>invoice_date</th>\n",
       "      <th>unit_price</th>\n",
       "      <th>country</th>\n",
       "      <th>customer_id</th>\n",
       "    </tr>\n",
       "  </thead>\n",
       "  <tbody>\n",
       "    <tr>\n",
       "      <th>141</th>\n",
       "      <td>C536379</td>\n",
       "      <td>D</td>\n",
       "      <td>Discount</td>\n",
       "      <td>-1</td>\n",
       "      <td>2016-11-29</td>\n",
       "      <td>27.50</td>\n",
       "      <td>united kingdom</td>\n",
       "      <td>14527</td>\n",
       "    </tr>\n",
       "    <tr>\n",
       "      <th>154</th>\n",
       "      <td>C536383</td>\n",
       "      <td>35004C</td>\n",
       "      <td>SET OF 3 COLOURED  FLYING DUCKS</td>\n",
       "      <td>-1</td>\n",
       "      <td>2016-11-29</td>\n",
       "      <td>4.65</td>\n",
       "      <td>united kingdom</td>\n",
       "      <td>15311</td>\n",
       "    </tr>\n",
       "    <tr>\n",
       "      <th>235</th>\n",
       "      <td>C536391</td>\n",
       "      <td>22556</td>\n",
       "      <td>PLASTERS IN TIN CIRCUS PARADE</td>\n",
       "      <td>-12</td>\n",
       "      <td>2016-11-29</td>\n",
       "      <td>1.65</td>\n",
       "      <td>united kingdom</td>\n",
       "      <td>17548</td>\n",
       "    </tr>\n",
       "    <tr>\n",
       "      <th>236</th>\n",
       "      <td>C536391</td>\n",
       "      <td>21984</td>\n",
       "      <td>PACK OF 12 PINK PAISLEY TISSUES</td>\n",
       "      <td>-24</td>\n",
       "      <td>2016-11-29</td>\n",
       "      <td>0.29</td>\n",
       "      <td>united kingdom</td>\n",
       "      <td>17548</td>\n",
       "    </tr>\n",
       "    <tr>\n",
       "      <th>237</th>\n",
       "      <td>C536391</td>\n",
       "      <td>21983</td>\n",
       "      <td>PACK OF 12 BLUE PAISLEY TISSUES</td>\n",
       "      <td>-24</td>\n",
       "      <td>2016-11-29</td>\n",
       "      <td>0.29</td>\n",
       "      <td>united kingdom</td>\n",
       "      <td>17548</td>\n",
       "    </tr>\n",
       "  </tbody>\n",
       "</table>\n",
       "</div>"
      ],
      "text/plain": [
       "    invoice_no stock_code                       description  quantity invoice_date  unit_price         country  customer_id\n",
       "141    C536379          D                          Discount        -1   2016-11-29       27.50  united kingdom        14527\n",
       "154    C536383     35004C   SET OF 3 COLOURED  FLYING DUCKS        -1   2016-11-29        4.65  united kingdom        15311\n",
       "235    C536391      22556    PLASTERS IN TIN CIRCUS PARADE        -12   2016-11-29        1.65  united kingdom        17548\n",
       "236    C536391      21984  PACK OF 12 PINK PAISLEY TISSUES        -24   2016-11-29        0.29  united kingdom        17548\n",
       "237    C536391      21983  PACK OF 12 BLUE PAISLEY TISSUES        -24   2016-11-29        0.29  united kingdom        17548"
      ]
     },
     "execution_count": 17,
     "metadata": {},
     "output_type": "execute_result"
    }
   ],
   "source": [
    "# Exploração da variável invoice_no \n",
    "df_invoice =  df1.loc[cat_attributes['invoice_no'].apply(lambda x: bool(re.search('[^0-9]+', x)))]\n",
    "\n",
    "\n",
    "# --------- Verificação de quantidades negativas de invoice com letras e negativos -----------------------------------------\n",
    "\n",
    "# quantidade de dados do df_invoice\n",
    "print('Quantidade de dados de Invoice_No com a letra C no início: {}'.format(len(df_invoice)))\n",
    "\n",
    "# Quantidade de quantity negativos no df_invoice\n",
    "print('Quantidade de dados com o quantity negativo: {}.'.format(len(df_invoice[df_invoice['quantity'] < 0])))\n",
    "\n",
    "# exibição dos dados\n",
    "df_invoice.head()"
   ]
  },
  {
   "cell_type": "markdown",
   "id": "5947c69c",
   "metadata": {},
   "source": [
    "#### StockCode"
   ]
  },
  {
   "cell_type": "code",
   "execution_count": 18,
   "id": "bd16235a",
   "metadata": {
    "ExecuteTime": {
     "end_time": "2023-01-26T10:09:15.225575Z",
     "start_time": "2023-01-26T10:09:13.762212Z"
    }
   },
   "outputs": [
    {
     "name": "stdout",
     "output_type": "stream",
     "text": [
      "['POST', 'D', 'DOT', 'M', 'S', 'AMAZONFEE', 'm', 'DCGSSBOY', 'DCGSSGIRL', 'PADS', 'B', 'CRUK']\n"
     ]
    },
    {
     "data": {
      "text/html": [
       "<div>\n",
       "<style scoped>\n",
       "    .dataframe tbody tr th:only-of-type {\n",
       "        vertical-align: middle;\n",
       "    }\n",
       "\n",
       "    .dataframe tbody tr th {\n",
       "        vertical-align: top;\n",
       "    }\n",
       "\n",
       "    .dataframe thead th {\n",
       "        text-align: right;\n",
       "    }\n",
       "</style>\n",
       "<table border=\"1\" class=\"dataframe\">\n",
       "  <thead>\n",
       "    <tr style=\"text-align: right;\">\n",
       "      <th></th>\n",
       "      <th>invoice_no</th>\n",
       "      <th>stock_code</th>\n",
       "      <th>description</th>\n",
       "      <th>quantity</th>\n",
       "      <th>invoice_date</th>\n",
       "      <th>unit_price</th>\n",
       "      <th>country</th>\n",
       "      <th>customer_id</th>\n",
       "    </tr>\n",
       "  </thead>\n",
       "  <tbody>\n",
       "    <tr>\n",
       "      <th>45</th>\n",
       "      <td>536370</td>\n",
       "      <td>POST</td>\n",
       "      <td>POSTAGE</td>\n",
       "      <td>3</td>\n",
       "      <td>2016-11-29</td>\n",
       "      <td>18.00</td>\n",
       "      <td>france</td>\n",
       "      <td>12583</td>\n",
       "    </tr>\n",
       "    <tr>\n",
       "      <th>141</th>\n",
       "      <td>C536379</td>\n",
       "      <td>D</td>\n",
       "      <td>Discount</td>\n",
       "      <td>-1</td>\n",
       "      <td>2016-11-29</td>\n",
       "      <td>27.50</td>\n",
       "      <td>united kingdom</td>\n",
       "      <td>14527</td>\n",
       "    </tr>\n",
       "    <tr>\n",
       "      <th>386</th>\n",
       "      <td>536403</td>\n",
       "      <td>POST</td>\n",
       "      <td>POSTAGE</td>\n",
       "      <td>1</td>\n",
       "      <td>2016-11-29</td>\n",
       "      <td>15.00</td>\n",
       "      <td>netherlands</td>\n",
       "      <td>12791</td>\n",
       "    </tr>\n",
       "    <tr>\n",
       "      <th>1123</th>\n",
       "      <td>536527</td>\n",
       "      <td>POST</td>\n",
       "      <td>POSTAGE</td>\n",
       "      <td>1</td>\n",
       "      <td>2016-11-29</td>\n",
       "      <td>18.00</td>\n",
       "      <td>germany</td>\n",
       "      <td>12662</td>\n",
       "    </tr>\n",
       "    <tr>\n",
       "      <th>1814</th>\n",
       "      <td>536544</td>\n",
       "      <td>DOT</td>\n",
       "      <td>DOTCOM POSTAGE</td>\n",
       "      <td>1</td>\n",
       "      <td>2016-11-29</td>\n",
       "      <td>569.77</td>\n",
       "      <td>united kingdom</td>\n",
       "      <td>19001</td>\n",
       "    </tr>\n",
       "  </tbody>\n",
       "</table>\n",
       "</div>"
      ],
      "text/plain": [
       "     invoice_no stock_code     description  quantity invoice_date  unit_price         country  customer_id\n",
       "45       536370       POST         POSTAGE         3   2016-11-29       18.00          france        12583\n",
       "141     C536379          D        Discount        -1   2016-11-29       27.50  united kingdom        14527\n",
       "386      536403       POST         POSTAGE         1   2016-11-29       15.00     netherlands        12791\n",
       "1123     536527       POST         POSTAGE         1   2016-11-29       18.00         germany        12662\n",
       "1814     536544        DOT  DOTCOM POSTAGE         1   2016-11-29      569.77  united kingdom        19001"
      ]
     },
     "execution_count": 18,
     "metadata": {},
     "output_type": "execute_result"
    }
   ],
   "source": [
    "# Exploração da variável stock_code\n",
    "df_stock_code =  df1.loc[cat_attributes['stock_code'].apply(lambda x: bool(re.search('^[a-zA-Z]+$', x)))]\n",
    "\n",
    "# Exibição\n",
    "print(df_stock_code['stock_code'].unique().tolist())\n",
    "df_stock_code.head()"
   ]
  },
  {
   "cell_type": "markdown",
   "id": "4f97c37f",
   "metadata": {},
   "source": [
    "#### Description"
   ]
  },
  {
   "cell_type": "code",
   "execution_count": 19,
   "id": "d0280692",
   "metadata": {
    "ExecuteTime": {
     "end_time": "2023-01-26T10:09:15.257495Z",
     "start_time": "2023-01-26T10:09:15.230518Z"
    }
   },
   "outputs": [
    {
     "data": {
      "text/html": [
       "<div>\n",
       "<style scoped>\n",
       "    .dataframe tbody tr th:only-of-type {\n",
       "        vertical-align: middle;\n",
       "    }\n",
       "\n",
       "    .dataframe tbody tr th {\n",
       "        vertical-align: top;\n",
       "    }\n",
       "\n",
       "    .dataframe thead th {\n",
       "        text-align: right;\n",
       "    }\n",
       "</style>\n",
       "<table border=\"1\" class=\"dataframe\">\n",
       "  <thead>\n",
       "    <tr style=\"text-align: right;\">\n",
       "      <th></th>\n",
       "      <th>invoice_no</th>\n",
       "      <th>stock_code</th>\n",
       "      <th>description</th>\n",
       "      <th>country</th>\n",
       "    </tr>\n",
       "  </thead>\n",
       "  <tbody>\n",
       "    <tr>\n",
       "      <th>0</th>\n",
       "      <td>536365</td>\n",
       "      <td>85123A</td>\n",
       "      <td>WHITE HANGING HEART T-LIGHT HOLDER</td>\n",
       "      <td>united kingdom</td>\n",
       "    </tr>\n",
       "    <tr>\n",
       "      <th>1</th>\n",
       "      <td>536365</td>\n",
       "      <td>71053</td>\n",
       "      <td>WHITE METAL LANTERN</td>\n",
       "      <td>united kingdom</td>\n",
       "    </tr>\n",
       "    <tr>\n",
       "      <th>2</th>\n",
       "      <td>536365</td>\n",
       "      <td>84406B</td>\n",
       "      <td>CREAM CUPID HEARTS COAT HANGER</td>\n",
       "      <td>united kingdom</td>\n",
       "    </tr>\n",
       "    <tr>\n",
       "      <th>3</th>\n",
       "      <td>536365</td>\n",
       "      <td>84029G</td>\n",
       "      <td>KNITTED UNION FLAG HOT WATER BOTTLE</td>\n",
       "      <td>united kingdom</td>\n",
       "    </tr>\n",
       "    <tr>\n",
       "      <th>4</th>\n",
       "      <td>536365</td>\n",
       "      <td>84029E</td>\n",
       "      <td>RED WOOLLY HOTTIE WHITE HEART.</td>\n",
       "      <td>united kingdom</td>\n",
       "    </tr>\n",
       "  </tbody>\n",
       "</table>\n",
       "</div>"
      ],
      "text/plain": [
       "  invoice_no stock_code                          description         country\n",
       "0     536365     85123A   WHITE HANGING HEART T-LIGHT HOLDER  united kingdom\n",
       "1     536365      71053                  WHITE METAL LANTERN  united kingdom\n",
       "2     536365     84406B       CREAM CUPID HEARTS COAT HANGER  united kingdom\n",
       "3     536365     84029G  KNITTED UNION FLAG HOT WATER BOTTLE  united kingdom\n",
       "4     536365     84029E       RED WOOLLY HOTTIE WHITE HEART.  united kingdom"
      ]
     },
     "execution_count": 19,
     "metadata": {},
     "output_type": "execute_result"
    }
   ],
   "source": [
    "cat_attributes.head()"
   ]
  },
  {
   "cell_type": "markdown",
   "id": "c818a54d",
   "metadata": {},
   "source": [
    "#### Country"
   ]
  },
  {
   "cell_type": "code",
   "execution_count": 20,
   "id": "ef626708",
   "metadata": {
    "ExecuteTime": {
     "end_time": "2023-01-26T10:09:15.492675Z",
     "start_time": "2023-01-26T10:09:15.261437Z"
    }
   },
   "outputs": [
    {
     "data": {
      "text/plain": [
       "array(['united kingdom', 'france', 'australia', 'netherlands', 'germany',\n",
       "       'norway', 'eire', 'switzerland', 'spain', 'poland', 'portugal',\n",
       "       'italy', 'belgium', 'lithuania', 'japan', 'iceland',\n",
       "       'channel islands', 'denmark', 'cyprus', 'sweden', 'austria',\n",
       "       'israel', 'finland', 'bahrain', 'greece', 'hong kong', 'singapore',\n",
       "       'lebanon', 'united arab emirates', 'saudi arabia',\n",
       "       'czech republic', 'canada', 'unspecified', 'brazil', 'usa',\n",
       "       'european community', 'malta', 'rsa'], dtype=object)"
      ]
     },
     "execution_count": 20,
     "metadata": {},
     "output_type": "execute_result"
    }
   ],
   "source": [
    "# Países\n",
    "cat_attributes['country'].unique()"
   ]
  },
  {
   "cell_type": "markdown",
   "id": "45ea1594",
   "metadata": {},
   "source": [
    "# 2.0 - Filtragem dos Dados"
   ]
  },
  {
   "cell_type": "code",
   "execution_count": 21,
   "id": "2e135539",
   "metadata": {
    "ExecuteTime": {
     "end_time": "2023-01-26T10:09:16.321175Z",
     "start_time": "2023-01-26T10:09:16.292216Z"
    }
   },
   "outputs": [],
   "source": [
    "df2 = df1.copy()"
   ]
  },
  {
   "cell_type": "code",
   "execution_count": 22,
   "id": "dd3e8089",
   "metadata": {
    "ExecuteTime": {
     "end_time": "2023-01-26T10:09:17.909534Z",
     "start_time": "2023-01-26T10:09:17.145463Z"
    }
   },
   "outputs": [],
   "source": [
    "# Filtragem unit_price\n",
    "df2 = df2[df2['unit_price'] >=0.04].copy()\n",
    "\n",
    "\n",
    "# --------------------- Filtragem Atributos Categóricos --------------------\n",
    "\n",
    "# lista de códigos a serem removido\n",
    "list_of_codes = df_stock_code['stock_code'].unique().tolist()\n",
    "\n",
    "# Remoção de códigos do estoque\n",
    "df2 = df2[~df2['stock_code'].isin(list_of_codes)].copy()\n",
    "\n",
    "# Remoção da variável description\n",
    "df2 = df2.drop('description', axis=1).copy()\n",
    "\n",
    "# Remoção de Países Desnecessários\n",
    "df2 = df2[~df2['country'].isin(['european community', 'unspecified'])]\n",
    "\n",
    "\n",
    "# ------------------- Filtragem Atributos Numéricos ------------------------\n",
    "\n",
    "# Armazenando os dados que foram cancelados ou devolvidos\n",
    "df_devolucao = df2[df2['quantity'] < 0].copy()\n",
    "\n",
    "# Armazenando os dados que foram faturados\n",
    "df_faturamento = df2[df2['quantity'] >= 0].copy()\n",
    "\n",
    "\n",
    "# ------------------ Remoção de Péssimos Clientes -------------------------\n",
    "\n",
    "df2 = df2[~df2['customer_id'].isin([16446])].copy()"
   ]
  },
  {
   "cell_type": "markdown",
   "id": "36d7be2c",
   "metadata": {},
   "source": [
    "# 3.0 - Feature Engineering"
   ]
  },
  {
   "cell_type": "code",
   "execution_count": null,
   "id": "f57bf7ef",
   "metadata": {
    "ExecuteTime": {
     "end_time": "2023-01-26T10:08:37.441424Z",
     "start_time": "2023-01-26T10:08:37.441424Z"
    }
   },
   "outputs": [],
   "source": [
    "df3 = df2.copy()"
   ]
  },
  {
   "cell_type": "markdown",
   "id": "c1b1d716",
   "metadata": {},
   "source": [
    "## 3.1 - Criação das Features\n"
   ]
  },
  {
   "cell_type": "code",
   "execution_count": null,
   "id": "ded6dc65",
   "metadata": {
    "ExecuteTime": {
     "end_time": "2023-01-26T10:08:37.446225Z",
     "start_time": "2023-01-26T10:08:37.445415Z"
    }
   },
   "outputs": [],
   "source": [
    "# Dataframe Referência\n",
    "df_ref = df_faturamento.drop(['invoice_no', 'stock_code', 'quantity', \n",
    "                              'invoice_date','unit_price', 'country'], axis=1).copy()\n",
    "\n",
    "# Remover duplicidades \n",
    "df_ref = df_ref.drop_duplicates().reset_index(drop=True)"
   ]
  },
  {
   "cell_type": "markdown",
   "id": "366c12f2",
   "metadata": {},
   "source": [
    "### 3.1.1 - Faturamento"
   ]
  },
  {
   "cell_type": "code",
   "execution_count": null,
   "id": "296609e6",
   "metadata": {
    "ExecuteTime": {
     "end_time": "2023-01-26T10:08:37.449528Z",
     "start_time": "2023-01-26T10:08:37.449528Z"
    },
    "code_folding": []
   },
   "outputs": [],
   "source": [
    "# ----------------------------------- Construção da Feature Faturamento ----------------------------------------\n",
    "\n",
    "# Criação da variável de total comprado por produto\n",
    "df_faturamento['total_by_product'] = df_faturamento['quantity'] * df_faturamento['unit_price']\n",
    "\n",
    "# Obtendo o valor total de compra por cada customer id\n",
    "df_monetary = df_faturamento[['customer_id', 'total_by_product']].groupby('customer_id').sum().reset_index()\n",
    "\n",
    "# Renomeando colunas\n",
    "df_monetary = df_monetary.rename(columns = {'total_by_product' : 'faturamento'})\n",
    "\n",
    "# Merge do df_monetary com o dataframe referência.\n",
    "df_ref = pd.merge(df_ref, df_monetary, on='customer_id', how='left')"
   ]
  },
  {
   "cell_type": "markdown",
   "id": "79a7c325",
   "metadata": {},
   "source": [
    "### 3.1.2 - Recência em Dias da Última Compra Realizada"
   ]
  },
  {
   "cell_type": "code",
   "execution_count": null,
   "id": "83431754",
   "metadata": {
    "ExecuteTime": {
     "end_time": "2023-01-26T10:08:37.452395Z",
     "start_time": "2023-01-26T10:08:37.452395Z"
    }
   },
   "outputs": [],
   "source": [
    "# -------------------------------------- Construção da Feature Recency -----------------------------------\n",
    "\n",
    "# Extraindo o último dia de compra do cliente\n",
    "df_recency = df_faturamento[['customer_id', 'invoice_date']].groupby('customer_id').max().reset_index()\n",
    "\n",
    "# Obtendo a quantidade de dias do momento atual da análise até o último dia de compra do cliente\n",
    "df_recency['recencia_dias'] = (df_recency['invoice_date'].max() - df_recency['invoice_date']).dt.days\n",
    "\n",
    "# Armazenando somente os dados necessários\n",
    "df_recency = df_recency[['customer_id', 'recencia_dias']].copy() \n",
    "\n",
    "# Merge do df_recency com o dataframe referência.\n",
    "df_ref = pd.merge(df_ref, df_recency, on='customer_id', how='left')"
   ]
  },
  {
   "cell_type": "markdown",
   "id": "7bd40a43",
   "metadata": {},
   "source": [
    "### 3.1.3 - Quantidade de Tipos de Produtos Comprados"
   ]
  },
  {
   "cell_type": "code",
   "execution_count": null,
   "id": "0b36dc43",
   "metadata": {
    "ExecuteTime": {
     "end_time": "2023-01-26T10:08:37.455388Z",
     "start_time": "2023-01-26T10:08:37.455388Z"
    }
   },
   "outputs": [],
   "source": [
    "# ----------------------------------------- Construção da Feature Products Stock_code --------------------------------\n",
    "\n",
    "# Obtendo a quantidade de tipos de variedades de produtos que cada cliente comprou\n",
    "df_num_types_products = (df_faturamento[['customer_id', 'stock_code']].groupby('customer_id')\n",
    "                                                                      .count()\n",
    "                                                                      .reset_index())\n",
    "\n",
    "# Renomeando colunas\n",
    "df_num_types_products = df_num_types_products.rename(columns={'stock_code' : 'qtde_produtos_comprados'})\n",
    "\n",
    "# Merge do df_frequencily com o dataframe referência.\n",
    "df_ref = pd.merge(df_ref, df_num_types_products, on='customer_id', how='left')"
   ]
  },
  {
   "cell_type": "markdown",
   "id": "01eb6c57",
   "metadata": {},
   "source": [
    "### 3.1.4 - Taxa de Frequência de Compras Por Dia"
   ]
  },
  {
   "cell_type": "code",
   "execution_count": null,
   "id": "4b7cc563",
   "metadata": {
    "ExecuteTime": {
     "end_time": "2023-01-26T10:08:37.458379Z",
     "start_time": "2023-01-26T10:08:37.458379Z"
    }
   },
   "outputs": [],
   "source": [
    "# Criando um DataFrame auxiliar\n",
    "df_aux = (df_faturamento[['customer_id', 'invoice_no', 'invoice_date']].drop_duplicates()\n",
    "                                                                       .groupby('customer_id')\n",
    "                                                                       .agg(max_   = ('invoice_date', 'max'),\n",
    "                                                                            min_   = ('invoice_date', 'min'),\n",
    "                                                                            days_  = ('invoice_date', lambda x: ( (x.max() - x.min()).days ) + 1 ),\n",
    "                                                                            buy_   = ('invoice_no', 'count'))\n",
    "                                                                       .reset_index())\n",
    "\n",
    "# Cálculo da taxa de frequência de compra(compras/dia)\n",
    "df_aux['frequencia_compra'] = df_aux[['days_', 'buy_']].apply(lambda x: x['buy_']/x['days_'], axis=1)\n",
    "\n",
    "# Tomando os dados da taxa de frequência de compra e os customer_id\n",
    "df_frequencily = df_aux[['customer_id', 'frequencia_compra']].copy()\n",
    "\n",
    "# Merge\n",
    "df_ref = pd.merge(df_ref, df_frequencily, on='customer_id', how='left')"
   ]
  },
  {
   "cell_type": "markdown",
   "id": "2c55abfb",
   "metadata": {
    "ExecuteTime": {
     "end_time": "2022-12-05T11:19:30.549122Z",
     "start_time": "2022-12-05T11:19:30.540109Z"
    }
   },
   "source": [
    "### 3.1.5 - Número de Devoluções"
   ]
  },
  {
   "cell_type": "code",
   "execution_count": null,
   "id": "8e577ebc",
   "metadata": {
    "ExecuteTime": {
     "end_time": "2023-01-26T10:08:37.461372Z",
     "start_time": "2023-01-26T10:08:37.460375Z"
    }
   },
   "outputs": [],
   "source": [
    "# Armazenando a quantidade de devoluções por clientes.\n",
    "df_number_returns = ( df_devolucao[['customer_id', 'quantity']].groupby('customer_id')\n",
    "                                                               .sum()\n",
    "                                                               .reset_index()\n",
    "                                                               .rename(columns={'quantity':'qtde_devolucoes'}) )\n",
    "\n",
    "# Reajustando valores.\n",
    "df_number_returns['qtde_devolucoes'] = df_number_returns['qtde_devolucoes']*(-1)\n",
    "\n",
    "# Merge do dataframe de devoluções com o dataframe de referência\n",
    "df_ref = pd.merge(df_ref, df_number_returns, on='customer_id', how='left')\n",
    "\n",
    "# Preenchendo os na's com os valor 0.\n",
    "df_ref['qtde_devolucoes'] = df_ref['qtde_devolucoes'].apply(lambda x: 0 if pd.isna(x) else x)"
   ]
  },
  {
   "cell_type": "markdown",
   "id": "282a3975",
   "metadata": {},
   "source": [
    "# 4.0 - Análise Exploratória dos Dados"
   ]
  },
  {
   "cell_type": "code",
   "execution_count": null,
   "id": "f13cb71c",
   "metadata": {
    "ExecuteTime": {
     "end_time": "2023-01-26T10:08:37.464365Z",
     "start_time": "2023-01-26T10:08:37.464365Z"
    },
    "scrolled": true
   },
   "outputs": [],
   "source": [
    "# Variáveis_relevantes\n",
    "columns_selected = ['customer_id', \n",
    "                    'faturamento', \n",
    "                    'recencia_dias',\n",
    "                    'qtde_produtos_comprados', \n",
    "                    'frequencia_compra', \n",
    "                    'qtde_devolucoes']\n",
    "\n",
    "df4 = df_ref[columns_selected].copy()\n",
    "\n",
    "# Dropando os dados na's. No caso, são clientes que realizaram somente uma única compra dentro de uma ano. Logo, faz sentido removê-los, a fim de \n",
    "# facilitar a clusterização dos clientes.\n",
    "df4 = df4.dropna()"
   ]
  },
  {
   "cell_type": "code",
   "execution_count": null,
   "id": "fdeb9547",
   "metadata": {
    "ExecuteTime": {
     "end_time": "2023-01-26T10:08:37.467357Z",
     "start_time": "2023-01-26T10:08:37.467357Z"
    }
   },
   "outputs": [],
   "source": [
    "df4 = df4[df4.customer_id.isin([16446]) == False].copy()"
   ]
  },
  {
   "cell_type": "markdown",
   "id": "ec101ca4",
   "metadata": {},
   "source": [
    "# 5.0 - Preparação dos Dados"
   ]
  },
  {
   "cell_type": "code",
   "execution_count": null,
   "id": "f1674c1b",
   "metadata": {
    "ExecuteTime": {
     "end_time": "2023-01-26T10:08:37.470351Z",
     "start_time": "2023-01-26T10:08:37.470351Z"
    }
   },
   "outputs": [],
   "source": [
    "df5 = df4.copy()"
   ]
  },
  {
   "cell_type": "code",
   "execution_count": null,
   "id": "6637be1f",
   "metadata": {
    "ExecuteTime": {
     "end_time": "2023-01-26T10:08:37.473339Z",
     "start_time": "2023-01-26T10:08:37.473339Z"
    }
   },
   "outputs": [],
   "source": [
    "mm = preprocessing.MinMaxScaler()\n",
    "\n",
    "# ------------------------------ Padronização dos dados para input no modelo ------------------------------------------\n",
    "df5['faturamento'] = mm.fit_transform(df5[['faturamento']])\n",
    "pickle.dump(mm, open('../src/features/faturamento_scaler.pkl', 'wb')) # Salvando o modelo em pickle na pasta local\n",
    "pickle.dump(mm, fs.open('s3://insiders-hd/faturamento_scaler.pkl', 'wb')) # Salvando o modelo em pickle na s3 da aws\n",
    "\n",
    "\n",
    "df5['recencia_dias'] = mm.fit_transform(df5[['recencia_dias']])\n",
    "pickle.dump(mm, open('../src/features/recencia_dias_scaler.pkl', 'wb')) # Salvando o modelo em pickle na pasta local\n",
    "pickle.dump(mm, fs.open('s3://insiders-hd/recencia_dias_scaler.pkl', 'wb')) # Salvando o modelo em pickle na s3 da aws\n",
    "\n",
    "\n",
    "df5['qtde_produtos_comprados'] = mm.fit_transform(df5[['qtde_produtos_comprados']])\n",
    "pickle.dump(mm, open('../src/features/qtde_produtos_comprados_scaler.pkl', 'wb')) # Salvando o modelo em pickle na pasta local\n",
    "pickle.dump(mm, fs.open('s3://insiders-hd/qtde_produtos_comprados_scaler.pkl', 'wb')) # Salvando o modelo em pickle na s3 da aws\n",
    "\n",
    "\n",
    "df5['frequencia_compra'] = mm.fit_transform(df5[['frequencia_compra']])\n",
    "pickle.dump(mm, open('../src/features/frequencia_compra_scaler.pkl', 'wb')) # Salvando o modelo em pickle na pasta local\n",
    "pickle.dump(mm, fs.open('s3://insiders-hd/frequencia_compra_scaler.pkl', 'wb')) # Salvando o modelo em pickle na s3 da aws\n",
    "\n",
    "\n",
    "df5['qtde_devolucoes'] = mm.fit_transform(df5[['qtde_devolucoes']])\n",
    "pickle.dump(mm, open('../src/features/qtde_devolucoes_scaler.pkl', 'wb')) # Salvando o modelo em pickle na pasta local\n",
    "pickle.dump(mm, fs.open('s3://insiders-hd/qtde_devolucoes_scaler.pkl', 'wb')) # Salvando o modelo em pickle na s3 da aws"
   ]
  },
  {
   "cell_type": "markdown",
   "id": "eb43697e",
   "metadata": {},
   "source": [
    "# 6.0 - Seleção das Features"
   ]
  },
  {
   "cell_type": "code",
   "execution_count": null,
   "id": "8f014107",
   "metadata": {
    "ExecuteTime": {
     "end_time": "2023-01-26T10:08:37.475335Z",
     "start_time": "2023-01-26T10:08:37.475335Z"
    }
   },
   "outputs": [],
   "source": [
    "df6 = df5.copy()\n",
    "\n",
    "# Dropagem da coluna customer_id\n",
    "X = df6.drop('customer_id', axis=1)"
   ]
  },
  {
   "cell_type": "markdown",
   "id": "5cb7482e",
   "metadata": {},
   "source": [
    "## 6.1 - Espaço de Embedding UMAP"
   ]
  },
  {
   "cell_type": "code",
   "execution_count": null,
   "id": "20ab3933",
   "metadata": {
    "ExecuteTime": {
     "end_time": "2023-01-26T10:08:37.478327Z",
     "start_time": "2023-01-26T10:08:37.478327Z"
    }
   },
   "outputs": [],
   "source": [
    "# Instanciando o UMAP\n",
    "reducer = umap.UMAP(random_state=42)\n",
    "pickle.dump(reducer, open('../src/features/umap_reducer.pkl', 'wb')) # Salvando o modelo na pasta local\n",
    "pickle.dump(reducer, fs.open('s3://insiders-hd/umap_reducer.pkl', 'wb')) # Salvando o modelo no s3 da aws\n",
    "\n",
    "\n",
    "# Realizando o mergulho\n",
    "embedding = reducer.fit_transform(X)\n",
    "\n",
    "# Separação dos dados para plotagem.\n",
    "\n",
    "# eixo x e y\n",
    "df_umap = pd.DataFrame()\n",
    "df_umap['embedding_x'] = embedding[ : , 0]\n",
    "df_umap['embedding_y'] = embedding[ : , 1] \n",
    "\n",
    "# Plotagem\n",
    "sns.scatterplot(x='embedding_x', \n",
    "                y='embedding_y', \n",
    "                data=df_umap);"
   ]
  },
  {
   "cell_type": "code",
   "execution_count": null,
   "id": "24289e6f",
   "metadata": {
    "ExecuteTime": {
     "end_time": "2023-01-26T10:08:37.480990Z",
     "start_time": "2023-01-26T10:08:37.480990Z"
    },
    "scrolled": false
   },
   "outputs": [],
   "source": [
    "# Instanciando o UMAP\n",
    "#reducer = manifold.TSNE(n_components=2, learning_rate='auto', init='random', n_jobs=-1)\n",
    "\n",
    "# Realizando o mergulho\n",
    "#embedding = reducer.fit_transform(X)\n",
    "\n",
    "# Separação dos dados para plotagem.\n",
    "# eixo x e y\n",
    "#df_tsne = pd.DataFrame()\n",
    "#df_tsne['embedding_x'] = embedding[ : , 0]\n",
    "#df_tsne['embedding_y'] = embedding[ : , 1] \n",
    "\n",
    "# Plotagem\n",
    "#sns.scatterplot(x='embedding_x', \n",
    "#                y='embedding_y', \n",
    "#                data=df_tsne);"
   ]
  },
  {
   "cell_type": "markdown",
   "id": "f2886ec6",
   "metadata": {},
   "source": [
    "# 7.0 - Hiperparameter FineTunning"
   ]
  },
  {
   "cell_type": "code",
   "execution_count": null,
   "id": "18deb81b",
   "metadata": {
    "ExecuteTime": {
     "end_time": "2023-01-26T10:08:37.483315Z",
     "start_time": "2023-01-26T10:08:37.483315Z"
    }
   },
   "outputs": [],
   "source": [
    "# Ajuste dos Dados os modelos\n",
    "df_treino = df6.drop(['customer_id'], axis=1)\n",
    "\n",
    "# quantidade de cluster\n",
    "#clusters_feature = [2, 3, 4, 5, 6, 7]"
   ]
  },
  {
   "cell_type": "markdown",
   "id": "bc5d4f5f",
   "metadata": {},
   "source": [
    "## 7.1 - Hierarchical Clustering "
   ]
  },
  {
   "cell_type": "markdown",
   "id": "190f62ec",
   "metadata": {},
   "source": [
    "### Espaço de Embeeding - UMAP"
   ]
  },
  {
   "cell_type": "code",
   "execution_count": null,
   "id": "08af56fd",
   "metadata": {
    "ExecuteTime": {
     "end_time": "2023-01-26T10:08:37.486305Z",
     "start_time": "2023-01-26T10:08:37.486305Z"
    }
   },
   "outputs": [],
   "source": [
    "# Lista Vazia para armazenar os scores\n",
    "hierarchical_list_embeeding_umap = list()\n",
    "\n",
    "clusters = np.arange(2,15,1)\n",
    "\n",
    "for k in clusters:\n",
    "    # Definição do Modelo e treino\n",
    "    hierarchical_cluster_model = hierarchy.linkage(df_umap, 'ward')\n",
    "\n",
    "    # Predição do Modelo\n",
    "    labels = hierarchy.fcluster(hierarchical_cluster_model, k, criterion='maxclust')\n",
    "\n",
    "    # Analise da Silhouette \n",
    "    sil_score = metrics.silhouette_score(df_umap, labels, metric='euclidean')\n",
    "    \n",
    "    # Armazenamento do silhouette score\n",
    "    hierarchical_list_embeeding_umap.append(sil_score)\n",
    "\n",
    "# Plotagem dos scores\n",
    "plt.plot(clusters, hierarchical_list_embeeding_umap, linestyle='--', marker='o', color='b');"
   ]
  },
  {
   "cell_type": "markdown",
   "id": "0f1aa495",
   "metadata": {},
   "source": [
    "# 8.0 - Treinamento do Modelo"
   ]
  },
  {
   "cell_type": "markdown",
   "id": "897bc26f",
   "metadata": {},
   "source": [
    "## Espaço - UMAP"
   ]
  },
  {
   "cell_type": "markdown",
   "id": "623ff6cc",
   "metadata": {},
   "source": [
    "### Hierarchical CrossValidation"
   ]
  },
  {
   "cell_type": "code",
   "execution_count": null,
   "id": "a2d18de4",
   "metadata": {
    "ExecuteTime": {
     "end_time": "2023-01-26T10:08:37.489298Z",
     "start_time": "2023-01-26T10:08:37.489298Z"
    }
   },
   "outputs": [],
   "source": [
    "# Definição do Modelo e Treino\n",
    "k = 8\n",
    "hierarchical_cluster_model = hierarchy.linkage(df_umap, 'ward')\n",
    "\n",
    "# Predição do Modelo\n",
    "labels_hierarchical_umap = hierarchy.fcluster(hierarchical_cluster_model, k, criterion='maxclust')\n",
    "\n",
    "# Silhouette Score\n",
    "print('Silhouette Score: {}'.format(metrics.silhouette_score(df_umap, labels_hierarchical_umap, metric='euclidean')))"
   ]
  },
  {
   "cell_type": "markdown",
   "id": "5d52de11",
   "metadata": {},
   "source": [
    "# 9.0 - Cluster Analysis"
   ]
  },
  {
   "cell_type": "code",
   "execution_count": null,
   "id": "42514501",
   "metadata": {
    "ExecuteTime": {
     "end_time": "2023-01-26T10:08:37.492646Z",
     "start_time": "2023-01-26T10:08:37.492646Z"
    }
   },
   "outputs": [],
   "source": [
    "df9_umap = df_umap.copy()"
   ]
  },
  {
   "cell_type": "markdown",
   "id": "a117aa1a",
   "metadata": {},
   "source": [
    "## Espaço UMAP"
   ]
  },
  {
   "cell_type": "markdown",
   "id": "0d7774aa",
   "metadata": {},
   "source": [
    "### Inspeção por Visualização - Hierarchical"
   ]
  },
  {
   "cell_type": "code",
   "execution_count": null,
   "id": "d3c1dfa1",
   "metadata": {
    "ExecuteTime": {
     "end_time": "2023-01-26T10:08:37.496369Z",
     "start_time": "2023-01-26T10:08:37.496369Z"
    },
    "scrolled": false
   },
   "outputs": [],
   "source": [
    "# Rotulando cada cliente de acordo o o seu cluster\n",
    "df9_umap['cluster'] = labels_hierarchical_umap\n",
    "\n",
    "sns.scatterplot(x='embedding_x', y='embedding_y', hue='cluster', palette='deep', data=df9_umap);"
   ]
  },
  {
   "cell_type": "markdown",
   "id": "f1ea70c5",
   "metadata": {},
   "source": [
    "## 9.1 - Perfil Final dos Cluster"
   ]
  },
  {
   "cell_type": "code",
   "execution_count": null,
   "id": "b37fcfd0",
   "metadata": {
    "ExecuteTime": {
     "end_time": "2023-01-26T10:08:37.499272Z",
     "start_time": "2023-01-26T10:08:37.499272Z"
    }
   },
   "outputs": [],
   "source": [
    "# rotular cada cliente de acordo com o seu cluster\n",
    "df4['cluster'] = labels_hierarchical_umap\n",
    "\n",
    "# quantidade de clientes por cluster\n",
    "df_cluster = df4[['customer_id', 'cluster']].groupby('cluster').count().reset_index().rename(columns={'customer_id':'number_customers'})\n",
    "\n",
    "# Media de Faturamento por Cluster\n",
    "df_mean_gross_revenue = df4[['faturamento', \n",
    "                                'cluster']].groupby('cluster').mean().reset_index().rename(columns= {'faturamento':'media_faturamento'})\n",
    "\n",
    "# Media de Recência de Compras\n",
    "df_mean_recencia = df4[['recencia_dias', \n",
    "                             'cluster']].groupby('cluster').mean().reset_index().rename(columns={'recencia_dias':'media_recencia'})\n",
    "\n",
    "# Media de Recências\n",
    "df_mean_produtos_comprados = df4[['qtde_produtos_comprados', \n",
    "                              'cluster']].groupby('cluster').mean().reset_index().rename(columns={'qtde_produtos_comprados':'media_produtos_comprados'})\n",
    "\n",
    "# Media das compras\n",
    "df_mean_frequency = df4[['frequencia_compra', 'cluster']].groupby('cluster').mean().reset_index()\n",
    "\n",
    "# Média de DEvoluções\n",
    "df_mean_returns = df4[['qtde_devolucoes', 'cluster']].groupby('cluster').mean().reset_index()\n",
    "\n",
    "\n",
    "# Junção de todos os dados em uma única tabela.\n",
    "df_aux = pd.merge(df_cluster, df_mean_gross_revenue, how='inner', on='cluster')\n",
    "df_aux = pd.merge(df_aux, df_mean_recencia, how='inner', on='cluster')\n",
    "df_aux = pd.merge(df_aux, df_mean_produtos_comprados, how='inner', on='cluster')\n",
    "df_aux = pd.merge(df_aux, df_mean_frequency, how='inner', on='cluster')\n",
    "df_aux = pd.merge(df_aux, df_mean_returns, how='inner', on='cluster')\n",
    "\n",
    "tabela_final = df_aux.copy()\n",
    "# Criação da coluna que nos dá o percentual de clientes em cada cluster.\n",
    "tabela_final['number_customer_percentual'] = round((tabela_final['number_customers']/tabela_final['number_customers'].sum())*100, 2)"
   ]
  },
  {
   "cell_type": "code",
   "execution_count": null,
   "id": "54c66bad",
   "metadata": {
    "ExecuteTime": {
     "end_time": "2023-01-26T10:08:37.502264Z",
     "start_time": "2023-01-26T10:08:37.502264Z"
    }
   },
   "outputs": [],
   "source": [
    "tabela_final = tabela_final.sort_values('media_faturamento', ascending=False).reset_index(drop=True)\n",
    "tabela_final.to_csv('../data/raw/relatorio_final_clusters.csv', index=False)"
   ]
  },
  {
   "cell_type": "markdown",
   "id": "eea13590",
   "metadata": {},
   "source": [
    "# 10.0 - Inserção dos Dados no Banco de Dados "
   ]
  },
  {
   "cell_type": "markdown",
   "id": "001b8823",
   "metadata": {},
   "source": [
    "## 10.1 - Criar o Banco de Dados e a Tabela\n"
   ]
  },
  {
   "cell_type": "code",
   "execution_count": 3,
   "id": "b5cde01d",
   "metadata": {
    "ExecuteTime": {
     "end_time": "2023-01-26T10:08:43.353890Z",
     "start_time": "2023-01-26T10:08:43.320942Z"
    }
   },
   "outputs": [
    {
     "ename": "NameError",
     "evalue": "name 'df4' is not defined",
     "output_type": "error",
     "traceback": [
      "\u001b[1;31m---------------------------------------------------------------------------\u001b[0m",
      "\u001b[1;31mNameError\u001b[0m                                 Traceback (most recent call last)",
      "Cell \u001b[1;32mIn [3], line 2\u001b[0m\n\u001b[0;32m      1\u001b[0m \u001b[38;5;66;03m# Ajuste de Variáveis\u001b[39;00m\n\u001b[1;32m----> 2\u001b[0m df4[\u001b[38;5;124m'\u001b[39m\u001b[38;5;124mqtde_devolucoes\u001b[39m\u001b[38;5;124m'\u001b[39m] \u001b[38;5;241m=\u001b[39m \u001b[43mdf4\u001b[49m[\u001b[38;5;124m'\u001b[39m\u001b[38;5;124mqtde_devolucoes\u001b[39m\u001b[38;5;124m'\u001b[39m]\u001b[38;5;241m.\u001b[39mastype(np\u001b[38;5;241m.\u001b[39mint64) \n\u001b[0;32m      3\u001b[0m df4[\u001b[38;5;124m'\u001b[39m\u001b[38;5;124mcluster\u001b[39m\u001b[38;5;124m'\u001b[39m] \u001b[38;5;241m=\u001b[39m df4[\u001b[38;5;124m'\u001b[39m\u001b[38;5;124mcluster\u001b[39m\u001b[38;5;124m'\u001b[39m]\u001b[38;5;241m.\u001b[39mastype(np\u001b[38;5;241m.\u001b[39mint64)\n",
      "\u001b[1;31mNameError\u001b[0m: name 'df4' is not defined"
     ]
    }
   ],
   "source": [
    "# Ajuste de Variáveis\n",
    "df4['qtde_devolucoes'] = df4['qtde_devolucoes'].astype(np.int64) \n",
    "df4['cluster'] = df4['cluster'].astype(np.int64)"
   ]
  },
  {
   "cell_type": "code",
   "execution_count": null,
   "id": "be19e086",
   "metadata": {},
   "outputs": [],
   "source": [
    "# ------------------------- Dropagem do banco da tabela ------------------------------\n",
    "\n",
    "# Criar o Banco de Dados\n",
    "connection = sqlite3.connect('insiders_db.sqlite')\n",
    "\n",
    "# Query para dropar a tabela\n",
    "query_drop_table = \"\"\"DROP TABLE insiders\"\"\"\n",
    "\n",
    "# Commando para executar a query\n",
    "connection.execute(query_drop_table)\n",
    "\n",
    "# Commit para finalizar a execução\n",
    "connection.commit()\n",
    "\n",
    "# Fechando a conexão\n",
    "connection.close()"
   ]
  },
  {
   "cell_type": "code",
   "execution_count": null,
   "id": "af56c53f",
   "metadata": {
    "ExecuteTime": {
     "start_time": "2023-01-25T15:54:49.208Z"
    }
   },
   "outputs": [],
   "source": [
    "# Criar o Banco de Dados\n",
    "#connection = sqlite3.connect('insiders_db.sqlite')\n",
    "\n",
    "# Criar a tabela que vai armazenar os dados\n",
    "#query_create_table = \"\"\"\n",
    "#    CREATE TABLE insiders(\n",
    "#    customer_id                  INTEGER,\n",
    "#    faturamento                  REAL,\n",
    "#    recencia_dias                INTEGER,\n",
    "#    qtde_produtos_comprados      INTEGER,\n",
    "#    frequencia_compra            REAL,\n",
    "#    qtde_devolucoes              INTEGER,\n",
    "#    cluster                      INTEGER\n",
    "#    )\n",
    "#    \n",
    "#\"\"\"\n",
    "#\n",
    "## Comando para executar a query que cria a tabela\n",
    "#connection.execute(query_create_table)\n",
    "#\n",
    "## Commit para Finalizar a criação\n",
    "#connection.commit()\n",
    "#\n",
    "## Fechando a conexão\n",
    "#connection.close()"
   ]
  },
  {
   "cell_type": "markdown",
   "id": "98a7eb49",
   "metadata": {
    "ExecuteTime": {
     "end_time": "2023-01-13T12:20:01.860526Z",
     "start_time": "2023-01-13T12:20:01.838618Z"
    }
   },
   "source": [
    "## 10.2 -  Inserindo os dados na Tabela"
   ]
  },
  {
   "cell_type": "code",
   "execution_count": 42,
   "id": "72201d4e",
   "metadata": {
    "ExecuteTime": {
     "end_time": "2023-01-23T19:17:47.876647Z",
     "start_time": "2023-01-23T19:17:47.311591Z"
    }
   },
   "outputs": [
    {
     "data": {
      "text/plain": [
       "5695"
      ]
     },
     "execution_count": 42,
     "metadata": {},
     "output_type": "execute_result"
    }
   ],
   "source": [
    "# Criar uma conexão com o banco de dados\n",
    "connection = sqlalchemy.create_engine('sqlite:///insiders_db.sqlite')\n",
    "\n",
    "# Inserindo os dados\n",
    "df4.to_sql('insiders', con=connection, if_exists='append', index=False)"
   ]
  },
  {
   "cell_type": "markdown",
   "id": "e33b0554",
   "metadata": {},
   "source": [
    "## 10.3 - Seleção de Dados para Confirmação de Upload "
   ]
  },
  {
   "cell_type": "code",
   "execution_count": 43,
   "id": "7d43d70d",
   "metadata": {
    "ExecuteTime": {
     "end_time": "2023-01-23T19:17:48.068173Z",
     "start_time": "2023-01-23T19:17:48.057200Z"
    }
   },
   "outputs": [],
   "source": [
    "# Seleção dos Dados\n",
    "#dataframe = pd.read_sql(\"SELECT * FROM insiders\", con=connection)"
   ]
  }
 ],
 "metadata": {
  "kernelspec": {
   "display_name": "Python 3 (ipykernel)",
   "language": "python",
   "name": "python3"
  },
  "language_info": {
   "codemirror_mode": {
    "name": "ipython",
    "version": 3
   },
   "file_extension": ".py",
   "mimetype": "text/x-python",
   "name": "python",
   "nbconvert_exporter": "python",
   "pygments_lexer": "ipython3",
   "version": "3.8.0"
  }
 },
 "nbformat": 4,
 "nbformat_minor": 5
}
